{
 "cells": [
  {
   "cell_type": "code",
   "execution_count": null,
   "metadata": {},
   "outputs": [],
   "source": [
    "# imports\n",
    "import pandas as pd\n",
    "from Bio.KEGG.REST import *\n",
    "from Bio.KEGG.KGML import KGML_parser\n",
    "from Bio.Graphics.KGML_vis import KGMLCanvas\n",
    "#from Bio import Entrez\n",
    "\n",
    "from IPython.display import Image\n",
    "\n",
    "from io import StringIO"
   ]
  },
  {
   "cell_type": "markdown",
   "metadata": {},
   "source": [
    "## KEGG REST service and visualizing KEGG pathways\n",
    "You can find documentation about the REST service itself and how to use it directly using URLs in a browser here: http://www.genome.jp/kegg/rest/keggapi.html\n",
    "\n",
    "The following link shows a Jupyter notebook that contains code examples that are very similar to the tasks in this Pathways notebook, and almost in the same order, so take a look if you need help with anything from access to the KEGG REST service using Biopython to coloring nodes in a pathway visualization:\n",
    "http://nbviewer.jupyter.org/github/widdowquinn/notebooks/blob/master/Biopython_KGML_intro.ipynb"
   ]
  },
  {
   "cell_type": "markdown",
   "metadata": {},
   "source": [
    "## Task 1: KEGG and gene id mapping"
   ]
  },
  {
   "cell_type": "markdown",
   "metadata": {},
   "source": [
    "Familiarize yourself with the KEGG Rest interface and how to access it with Biopyhton.<br>\n",
    "Before you start solving task 1.1, read its task description, look at and run all code examples given there. Try to understand what happens, maybe by recreating some REST calls as URL calls in your browser.<br>\n",
    "The Biopython functions `kegg_list` and `kegg_link` simply wrap this URL call into a function and return the response in plain text.<br>\n",
    "E.g. accessing the URL http://rest.kegg.jp/list/pathway/hsa lists all pathways associated with humans and\n",
    "is equivalent to calling<br>\n",
    "`kegg_list('pathway', 'hsa').read()` in Python.<br>\n",
    "(Organsim IDs: hsa = Homo Sapiens, mmu = Mus musculus (mouse))"
   ]
  },
  {
   "cell_type": "markdown",
   "metadata": {},
   "source": [
    "### Subtask 1.1 Extract gene lists for all (mouse) KEGG pathways and store them\n",
    "Below is some example code showing how to get data out of the KEGG REST service in general.\n",
    "It lists all the mouse pathways and extracts the pathway IDs from the REST response, then pulls the gene list for one pathway.\n",
    "\n",
    "* The raw list of pathways looks like this:<br>\n",
    "path:mmu00010\tGlycolysis / Gluconeogenesis - Mus musculus (mouse)<br>\n",
    "path:mmu00020\tCitrate cycle (TCA cycle) - Mus musculus (mouse)<br>\n",
    "path:mmu00030\tPentose phosphate pathway - Mus musculus (mouse)<br>\n",
    "path:mmu00040\tPentose and glucuronate interconversions - Mus musculus (mouse)<br>\n",
    "path:mmu00051\tFructose and mannose metabolism - Mus musculus (mouse)<br>\n",
    "path:mmu00052\tGalactose metabolism - Mus musculus (mouse)<br>\n",
    "path:mmu00053\tAscorbate and aldarate metabolism - Mus musculus (mouse)<br>\n",
    "...<br>\n",
    "(path:ID)(TAB)(Description with spaces)\n",
    "\n",
    "\n",
    "* Each raw list of genes looks like this:<br>\n",
    "path:mmu00010\tmmu:100042025<br>\n",
    "path:mmu00010\tmmu:103988<br>\n",
    "path:mmu00010\tmmu:106557<br>\n",
    "path:mmu00010\tmmu:110695<br>\n",
    "path:mmu00010\tmmu:11522<br>\n",
    "path:mmu00010\tmmu:11529<br>\n",
    "path:mmu00010\tmmu:11532<br>\n",
    "...<br>\n",
    "(path:ID)(TAB)(organismID:geneID)\n",
    "<br>\n",
    "\n",
    "The gene identifiers are so-called Entrez ID's: KEGG chose to use the Entrez system.\n",
    "\n",
    "* Extend the code to get lists of gene IDs for each pathway<br>\n",
    "* Store the lists in a way that allows convenient lookup of all genes in each pathway:\n",
    "A DataFrame with two columns: Pathway and Entrez, where the pathway ID will be equal for all genes from one pathway. From this you can extract all genes of a pathway using the first column. Be aware that none of those columns on their own can be a unique identifier for each row. Each gene might also be present in multiple pathways: it's a typical case of N-to-N (\"many-to-many\") mapping.\n",
    " \n",
    "BEWARE! You will need to do many calls to the REST service to retrieve pathway information and this might take a lot of time, partly because of restrictions to the number of calls per second allowed by Biopython.<br>\n",
    "Make sure your code works as expected on e.g. 3 Pathways before you start to process all (> 300) of them."
   ]
  },
  {
   "cell_type": "code",
   "execution_count": null,
   "metadata": {},
   "outputs": [],
   "source": [
    "# get all pathways from organism 'mmu' (Mus musculus)\n",
    "pathwaysResponse = kegg_list('pathway', 'mmu').read()\n",
    "# Format = path:ID Description\n",
    "print(pathwaysResponse)"
   ]
  },
  {
   "cell_type": "code",
   "execution_count": null,
   "metadata": {},
   "outputs": [],
   "source": [
    "# split the response on \"\\n\" newline characters, split the lines on \"\\t\" characters\n",
    "# store them in a suitable data structure (e.g. a Series indexed by pathway ID's)\n",
    "\n",
    "# pw_ids_names = ..."
   ]
  },
  {
   "cell_type": "code",
   "execution_count": null,
   "metadata": {},
   "outputs": [],
   "source": [
    "# use kegg_link(organism, pathway).read() to get the list of genes for each pathway\n",
    "\n",
    "# example for one pathway:\n",
    "exampleGeneList = kegg_link('mmu', 'path:mmu00010').read()\n",
    "# print(exampleGeneList)\n",
    "\n",
    "# A neat trick to turn this (and the list of pathways before) directly into a pandas DataFrame\n",
    "# is to use StringIO to simulate a CSV input file:\n",
    "tmp_df = pd.read_csv(StringIO(exampleGeneList), sep='\\t', header=None)\n",
    "tmp_df\n",
    "\n",
    "# Extend this code so that you obtain all pathway tables, and concatenate them into a single\n",
    "# pathway_entrez DataFrame."
   ]
  },
  {
   "cell_type": "code",
   "execution_count": null,
   "metadata": {},
   "outputs": [],
   "source": []
  },
  {
   "cell_type": "markdown",
   "metadata": {},
   "source": [
    "### Subtask 1.2: Create the pathway-to-gene DataFrame\n",
    "How many rows does the `pathway_entrez` DataFrame have? How many unique Entrez identifiers are in there?\n",
    "Store the DataFrame as a csv file so that you can load it back up easily if necessary.\n"
   ]
  },
  {
   "cell_type": "code",
   "execution_count": null,
   "metadata": {},
   "outputs": [],
   "source": []
  },
  {
   "cell_type": "markdown",
   "metadata": {},
   "source": [
    "### Subtask 1.3: Create a conversion table between gene identifier formats\n",
    "\n",
    "http://www.informatics.jax.org/downloads/reports/MGI_Gene_Model_Coord.rpt <br>\n",
    "The file above contains mappings between different identifier types, including the Entrez IDs that KEGG uses and the gene symbols we have in the DE data.\n",
    "Download and read in this file, then use the respective columns to map the Entrez ID numbers to gene symbols.\n",
    "\n",
    "Create a DataFrame with two columns:\n",
    "* `Gene.1` (to match the index name we had used in the DE notebook) and\n",
    "* `Entrez` to match our KEGG `pathway_entrez` table.\n",
    "\n",
    "Watch out! Pandas may convert the Entrez ID's to floating point numbers when loading the csv. Also, the \"mmu:\" prefix which KEGG uses is missing from them. Turn those `12345.0`-like floating point values to `mmu:12345` strings, otherwise you will have a hard time matching them with KEGG pathways."
   ]
  },
  {
   "cell_type": "code",
   "execution_count": null,
   "metadata": {},
   "outputs": [],
   "source": []
  },
  {
   "cell_type": "markdown",
   "metadata": {},
   "source": [
    "## Task 2: Gene Set Enrichment"
   ]
  },
  {
   "cell_type": "markdown",
   "metadata": {},
   "source": [
    "### Subtask 2.1: Prepare your differential expression data\n",
    "\n",
    "* Read in the csv file you produced in the Differential Expression notebook\n",
    "* Introduce a new boolean column `significant`, with criteria that you can adjust with later. You can start with -log10p > 2 and |log2fold| > 0.5 but they are not necessarily your final values."
   ]
  },
  {
   "cell_type": "code",
   "execution_count": null,
   "metadata": {},
   "outputs": [],
   "source": []
  },
  {
   "cell_type": "markdown",
   "metadata": {},
   "source": [
    "### Subtask 2.2: Perform gene set enrichment with the KEGG gene sets you extracted in Task 1\n",
    "Several tests are suitable for our purpose: the $\\chi^2$ test we had used before, Fisher's exact test, or the simplest binomial test.<br>\n",
    "\n",
    "Pick one of them. If you choose a contingency-table based test ($\\chi^2$ or Fisher's exact), find a way to calculate the entries of the contingency table for each pathway (significantly DE and contained in PW / not significant and contained / significant and not contained / not significant and not contained).\n",
    "\n",
    "If you choose a binomial test, determine the successes / number of trials / probability of success parameters. And remember, the latter is independent of your pathway! This is why it's a simplification."
   ]
  },
  {
   "cell_type": "code",
   "execution_count": null,
   "metadata": {},
   "outputs": [],
   "source": []
  },
  {
   "cell_type": "markdown",
   "metadata": {},
   "source": [
    "### Subtask 2.3: Extract a list of significantly enriched KEGG pathways\n",
    "How many pathways are enriched? How many survive the Benjamini-Hochberg correction? Do you have to update your criteria for gene significance?\n",
    "\n",
    "Is the proportion of enriched pathways similar to the proportion of differentially expressed genes?"
   ]
  },
  {
   "cell_type": "code",
   "execution_count": null,
   "metadata": {
    "scrolled": true
   },
   "outputs": [],
   "source": []
  },
  {
   "cell_type": "markdown",
   "metadata": {},
   "source": [
    "### Subtask 2.4: Create a pathway DataFrame combining all of the above\n",
    "* indexed by pathway ID\n",
    "* number of genes in pathway\n",
    "* number of significant genes in pathway\n",
    "* p-values of enrichment"
   ]
  },
  {
   "cell_type": "code",
   "execution_count": null,
   "metadata": {},
   "outputs": [],
   "source": []
  }
 ],
 "metadata": {
  "anaconda-cloud": {},
  "kernelspec": {
   "display_name": "Python 3",
   "language": "python",
   "name": "python3"
  },
  "language_info": {
   "codemirror_mode": {
    "name": "ipython",
    "version": 3
   },
   "file_extension": ".py",
   "mimetype": "text/x-python",
   "name": "python",
   "nbconvert_exporter": "python",
   "pygments_lexer": "ipython3",
   "version": "3.6.8"
  }
 },
 "nbformat": 4,
 "nbformat_minor": 1
}
