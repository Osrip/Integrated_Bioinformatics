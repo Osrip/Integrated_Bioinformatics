{
 "cells": [
  {
   "cell_type": "markdown",
   "metadata": {
    "toc": "true"
   },
   "source": [
    "# Table of Contents\n",
    " <p><div class=\"lev1 toc-item\"><a href=\"#Matplotlib-Basics\" data-toc-modified-id=\"Matplotlib-Basics-1\"><span class=\"toc-item-num\">1&nbsp;&nbsp;</span>Matplotlib Basics</a></div><div class=\"lev3 toc-item\"><a href=\"#A-Simple-Sine/Cosine-plot\" data-toc-modified-id=\"A-Simple-Sine/Cosine-plot-1.0.1\"><span class=\"toc-item-num\">1.0.1&nbsp;&nbsp;</span>A Simple Sine/Cosine plot</a></div><div class=\"lev2 toc-item\"><a href=\"#Exercise:-Plot-the-Normal-Distribution\" data-toc-modified-id=\"Exercise:-Plot-the-Normal-Distribution-1.1\"><span class=\"toc-item-num\">1.1&nbsp;&nbsp;</span>Exercise: Plot the Normal Distribution</a></div><div class=\"lev2 toc-item\"><a href=\"#Now-as-Boxplots\" data-toc-modified-id=\"Now-as-Boxplots-1.2\"><span class=\"toc-item-num\">1.2&nbsp;&nbsp;</span>Now as Boxplots</a></div><div class=\"lev2 toc-item\"><a href=\"#And-Histograms\" data-toc-modified-id=\"And-Histograms-1.3\"><span class=\"toc-item-num\">1.3&nbsp;&nbsp;</span>And Histograms</a></div>"
   ]
  },
  {
   "cell_type": "code",
   "execution_count": 1,
   "metadata": {
    "collapsed": true
   },
   "outputs": [],
   "source": [
    "# for matplotlib to work smoothly with Jupyter notebooks the following \"Magic\" is required:\n",
    "\n",
    "%matplotlib inline"
   ]
  },
  {
   "cell_type": "code",
   "execution_count": null,
   "metadata": {},
   "outputs": [],
   "source": [
    "# imports"
   ]
  },
  {
   "cell_type": "markdown",
   "metadata": {},
   "source": [
    "# Matplotlib Basics\n",
    "based on http://www.labri.fr/perso/nrougier/teaching/matplotlib/"
   ]
  },
  {
   "cell_type": "markdown",
   "metadata": {},
   "source": [
    "### A Simple Sine/Cosine plot"
   ]
  },
  {
   "cell_type": "markdown",
   "metadata": {},
   "source": [
    "- Create a numpy array X with 256 values ranging from -Pi to +Pi "
   ]
  },
  {
   "cell_type": "code",
   "execution_count": null,
   "metadata": {
    "collapsed": true
   },
   "outputs": [],
   "source": []
  },
  {
   "cell_type": "markdown",
   "metadata": {},
   "source": [
    "- Create two arrays C,S with values for the sine/cosine of X"
   ]
  },
  {
   "cell_type": "code",
   "execution_count": null,
   "metadata": {
    "collapsed": true
   },
   "outputs": [],
   "source": []
  },
  {
   "cell_type": "markdown",
   "metadata": {},
   "source": [
    "- Plot the curves using defaults"
   ]
  },
  {
   "cell_type": "code",
   "execution_count": null,
   "metadata": {},
   "outputs": [],
   "source": []
  },
  {
   "cell_type": "markdown",
   "metadata": {},
   "source": [
    "- Change colors and line widths"
   ]
  },
  {
   "cell_type": "code",
   "execution_count": null,
   "metadata": {},
   "outputs": [],
   "source": []
  },
  {
   "cell_type": "markdown",
   "metadata": {},
   "source": [
    "## Exercise: Plot the Normal Distribution"
   ]
  },
  {
   "cell_type": "markdown",
   "metadata": {},
   "source": [
    "#### Task 1: Reproduce the following image as closely as you can\n",
    "At the very least, the information content (labels and legend) have to be there"
   ]
  },
  {
   "cell_type": "markdown",
   "metadata": {},
   "source": [
    "<img src='https://upload.wikimedia.org/wikipedia/commons/thumb/7/74/Normal_Distribution_PDF.svg/720px-Normal_Distribution_PDF.svg.png'>"
   ]
  },
  {
   "cell_type": "code",
   "execution_count": null,
   "metadata": {},
   "outputs": [],
   "source": []
  },
  {
   "cell_type": "markdown",
   "metadata": {},
   "source": [
    "#### Task 2: Now plot the above distributions as Boxplots\n",
    "Plot them on the same scale to be able to compare them"
   ]
  },
  {
   "cell_type": "code",
   "execution_count": null,
   "metadata": {
    "collapsed": true
   },
   "outputs": [],
   "source": []
  },
  {
   "cell_type": "markdown",
   "metadata": {},
   "source": [
    "#### Task 3: ... and as histograms"
   ]
  },
  {
   "cell_type": "code",
   "execution_count": null,
   "metadata": {},
   "outputs": [],
   "source": []
  }
 ],
 "metadata": {
  "anaconda-cloud": {},
  "kernelspec": {
   "display_name": "Python 3",
   "language": "python",
   "name": "python3"
  },
  "language_info": {
   "codemirror_mode": {
    "name": "ipython",
    "version": 3
   },
   "file_extension": ".py",
   "mimetype": "text/x-python",
   "name": "python",
   "nbconvert_exporter": "python",
   "pygments_lexer": "ipython3",
   "version": "3.6.5"
  },
  "nav_menu": {},
  "toc": {
   "navigate_menu": true,
   "number_sections": true,
   "sideBar": false,
   "threshold": 6,
   "toc_cell": true,
   "toc_section_display": "block",
   "toc_window_display": false
  }
 },
 "nbformat": 4,
 "nbformat_minor": 1
}
