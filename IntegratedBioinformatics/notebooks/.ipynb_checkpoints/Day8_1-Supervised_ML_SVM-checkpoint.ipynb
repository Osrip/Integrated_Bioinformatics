{
 "cells": [
  {
   "cell_type": "markdown",
   "metadata": {},
   "source": [
    "## Supervised machine learning\n",
    "\n",
    "Having explored some unsupervised machine learning methods earlier, we will move on to supervised techniques. Supervised learning is the task of finding a mapping from input data to output labels based on example input-output pairs. During the training (or fitting) phase, the model builds an internal function which maps input to output, ideally in a way that can be generalized to yet-unseen data successfully. Once a model is trained, it can be used to predict output labels from new input data alone.\n",
    "\n",
    "They come in two main groups: classifiers for categorical labels, and regressors for continuous numeric labels.\n",
    "\n",
    "Our first dataset, like yesterday, will be the mice gene expression data on the input side, and the categorical diet labels on the output (also referred to as \"target\") side. The first supervised model that we will train and evaluate will be a support vector classifier."
   ]
  },
  {
   "cell_type": "code",
   "execution_count": 84,
   "metadata": {},
   "outputs": [],
   "source": [
    "import pandas as pd\n",
    "import numpy as np\n",
    "import seaborn as sns\n",
    "import matplotlib.pyplot as plt\n",
    "import sklearn\n",
    "from sklearn.svm import SVC\n",
    "from sklearn.decomposition import PCA\n",
    "from sklearn.model_selection import KFold"
   ]
  },
  {
   "cell_type": "markdown",
   "metadata": {},
   "source": [
    "We will load the expression and diet label data the same way as we did yesterday, and again, we will transpose the table so that samples correspond to rows, and the so-called \"features\" correspond to columns. From now on, instead of `True/False` we will use `1/0` when encoding the diet target labels, for compatibility with a larger range of models."
   ]
  },
  {
   "cell_type": "code",
   "execution_count": 2,
   "metadata": {},
   "outputs": [],
   "source": [
    "#xls = pd.read_excel('../data-livermito/aad0189_DataFileS5.xlsx', header=2)\n",
    "xls = pd.read_excel('Day2_Files\\\\aad0189_DataFileS5.xlsx', header = 2)\n",
    "expr = xls.groupby('Gene.1').mean()\n",
    "expr = expr.loc[:, expr.columns.str.contains('Liver')]\n",
    "is_hfd = pd.Series(expr.columns.str.contains('HFD'), index=expr.columns)  # diet labels for verification\n",
    "\n",
    "data = expr.T    # use the name 'data' for input\n",
    "target = 1 * is_hfd  # use the name 'target' for the labels / expected outputs. Let's convert it to 1's and 0's."
   ]
  },
  {
   "cell_type": "markdown",
   "metadata": {},
   "source": [
    "## Task 1: Create a support vector classifier (SVC) using a linear kernel\n",
    "\n",
    "### 1.1: Train it with the whole dataset\n",
    "Use a simple linear kernel for the SVC."
   ]
  },
  {
   "cell_type": "code",
   "execution_count": 19,
   "metadata": {
    "scrolled": false
   },
   "outputs": [
    {
     "data": {
      "text/plain": [
       "SVC(C=1.0, cache_size=200, class_weight=None, coef0=0.0,\n",
       "  decision_function_shape='ovr', degree=3, gamma='auto', kernel='linear',\n",
       "  max_iter=-1, probability=False, random_state=None, shrinking=True,\n",
       "  tol=0.001, verbose=False)"
      ]
     },
     "execution_count": 19,
     "metadata": {},
     "output_type": "execute_result"
    }
   ],
   "source": [
    "clf = SVC(kernel = 'linear')\n",
    "clf.fit(data, target)"
   ]
  },
  {
   "cell_type": "markdown",
   "metadata": {},
   "source": [
    "### 1.2: Evaluate its accuracy on the training data\n",
    "We are asking you to commit a **mortal sin**: evaluate a machine learning algorithm on the same data that you had trained it with. But do it anyway. Are you surprised by its accuracy?"
   ]
  },
  {
   "cell_type": "code",
   "execution_count": 20,
   "metadata": {
    "scrolled": true
   },
   "outputs": [
    {
     "data": {
      "text/html": [
       "<div>\n",
       "<style scoped>\n",
       "    .dataframe tbody tr th:only-of-type {\n",
       "        vertical-align: middle;\n",
       "    }\n",
       "\n",
       "    .dataframe tbody tr th {\n",
       "        vertical-align: top;\n",
       "    }\n",
       "\n",
       "    .dataframe thead th {\n",
       "        text-align: right;\n",
       "    }\n",
       "</style>\n",
       "<table border=\"1\" class=\"dataframe\">\n",
       "  <thead>\n",
       "    <tr style=\"text-align: right;\">\n",
       "      <th>col_0</th>\n",
       "      <th>False</th>\n",
       "      <th>True</th>\n",
       "    </tr>\n",
       "    <tr>\n",
       "      <th>row_0</th>\n",
       "      <th></th>\n",
       "      <th></th>\n",
       "    </tr>\n",
       "  </thead>\n",
       "  <tbody>\n",
       "    <tr>\n",
       "      <th>0</th>\n",
       "      <td>41</td>\n",
       "      <td>0</td>\n",
       "    </tr>\n",
       "    <tr>\n",
       "      <th>1</th>\n",
       "      <td>0</td>\n",
       "      <td>40</td>\n",
       "    </tr>\n",
       "  </tbody>\n",
       "</table>\n",
       "</div>"
      ],
      "text/plain": [
       "col_0  False  True \n",
       "row_0              \n",
       "0         41      0\n",
       "1          0     40"
      ]
     },
     "execution_count": 20,
     "metadata": {},
     "output_type": "execute_result"
    }
   ],
   "source": [
    "res1 = clf.predict(data)\n",
    "pd.crosstab(res1, is_hfd)"
   ]
  },
  {
   "cell_type": "markdown",
   "metadata": {},
   "source": [
    "### 1.3: Compare the support vector with the 4 direction vectors from yesterday's PCA\n",
    "To save you the trouble of moving code between sheets, we provided you the PCA code below, and put the principal direction vectors in a DataFrame. Add the linear support vector, find a suitable way of comparing it with the principal direction vectors, and discuss what you found."
   ]
  },
  {
   "cell_type": "code",
   "execution_count": 10,
   "metadata": {
    "scrolled": true
   },
   "outputs": [],
   "source": [
    "pca = PCA(n_components=4)\n",
    "pca.fit(data)\n",
    "coeffs = pd.DataFrame(pca.components_.T, columns=['pc1', 'pc2', 'pc3', 'pc4'])\n",
    "# coeffs['linear_svc'] = ..."
   ]
  },
  {
   "cell_type": "code",
   "execution_count": 33,
   "metadata": {},
   "outputs": [
    {
     "name": "stdout",
     "output_type": "stream",
     "text": [
      "(1, 21835)\n",
      "(21835, 5)\n",
      "Corrcoeff pc1 vs  normal vector of hyperplane:  0.5951964437386003\n",
      "Corrcoeff pc2 vs  normal vector of hyperplane:  -0.5147032754087544\n",
      "Corrcoeff pc3 vs  normal vector of hyperplane:  -0.3456806673914726\n",
      "Corrcoeff pc4 vs  normal vector of hyperplane:  0.11307108779137329\n"
     ]
    }
   ],
   "source": [
    "sup_vec1 = clf.support_vectors_.T\n",
    "norm_vec_hyper = clf.coef_\n",
    "print(np.shape(norm_vec_hyper))\n",
    "print(np.shape(coeffs))\n",
    "norm_vec_hyper\n",
    "coeffs['linear_svc'] = norm_vec_hyper.T\n",
    "coeffs\n",
    "#coeffs\n",
    "#coeffs[]\n",
    "for en in ['pc1', 'pc2', 'pc3', 'pc4']:\n",
    "    corrcoeff = np.corrcoef(coeffs[en], coeffs['linear_svc'])[0,1]\n",
    "    print('Corrcoeff', en, 'vs ', 'normal vector of hyperplane: ' , corrcoeff)\n",
    "    "
   ]
  },
  {
   "cell_type": "markdown",
   "metadata": {},
   "source": [
    "There is a strong correlation between pc1 and the normal vector of the hyperplane as well as a strong anticorrelation between it and pc2."
   ]
  },
  {
   "cell_type": "markdown",
   "metadata": {},
   "source": [
    "### 1.4: Validate the model in a legitimate way\n",
    "In 1.2 we asked you to evaluate the model with the same data you had trained it with. It's a poor and frowned upon way to test a model's accuracy, since you can't tell whether the model has merely memorized the exact inputs and expected outputs, or whether it truly found generalizable patterns in the data. The former scenario is often called \n",
    "# *overfitting*.\n",
    "\n",
    "This time, train the model with one half of the data, and validate its accuracy on the other half. It will ensure that the test data will be new for the classifier, and it can't simply recall their output labels.\n",
    "\n",
    "Keep it simple for now, rows `::2` for training and `1::2` for validating should be good enough."
   ]
  },
  {
   "cell_type": "code",
   "execution_count": 64,
   "metadata": {},
   "outputs": [
    {
     "data": {
      "text/html": [
       "<div>\n",
       "<style scoped>\n",
       "    .dataframe tbody tr th:only-of-type {\n",
       "        vertical-align: middle;\n",
       "    }\n",
       "\n",
       "    .dataframe tbody tr th {\n",
       "        vertical-align: top;\n",
       "    }\n",
       "\n",
       "    .dataframe thead th {\n",
       "        text-align: right;\n",
       "    }\n",
       "</style>\n",
       "<table border=\"1\" class=\"dataframe\">\n",
       "  <thead>\n",
       "    <tr style=\"text-align: right;\">\n",
       "      <th>col_0</th>\n",
       "      <th>False</th>\n",
       "      <th>True</th>\n",
       "    </tr>\n",
       "    <tr>\n",
       "      <th>row_0</th>\n",
       "      <th></th>\n",
       "      <th></th>\n",
       "    </tr>\n",
       "  </thead>\n",
       "  <tbody>\n",
       "    <tr>\n",
       "      <th>0</th>\n",
       "      <td>20</td>\n",
       "      <td>0</td>\n",
       "    </tr>\n",
       "    <tr>\n",
       "      <th>1</th>\n",
       "      <td>0</td>\n",
       "      <td>20</td>\n",
       "    </tr>\n",
       "  </tbody>\n",
       "</table>\n",
       "</div>"
      ],
      "text/plain": [
       "col_0  False  True \n",
       "row_0              \n",
       "0         20      0\n",
       "1          0     20"
      ]
     },
     "execution_count": 64,
     "metadata": {},
     "output_type": "execute_result"
    }
   ],
   "source": [
    "clf2 = SVC(kernel = 'linear')\n",
    "clf2.fit(data.iloc[::2], target[::2])\n",
    "res2 = clf2.predict(data[1::2])\n",
    "pd.crosstab(res2, is_hfd[1::2])"
   ]
  },
  {
   "cell_type": "markdown",
   "metadata": {},
   "source": [
    "The clusters were predicted perfectly. Thus we can assume that we did not overfit the data."
   ]
  },
  {
   "cell_type": "markdown",
   "metadata": {},
   "source": [
    "### 1.4.2: Reduce the number of features\n",
    "You may have found that the model still performs excellent, and it was successful at learning the structure of the data instead of just memorizing the training data. This a good sign, and it shows that it's not challenging for an SVM to distinguish the two diets from the full expression dataset. Let's make the SVM sweat a bit.\n",
    "\n",
    "Try cutting down the number of used features until the point that validation is no longer fully accurate. Keep only every N-th feature (e.g. train and validate with `data.loc[::2,::N]` and `data.loc[1::2, ::N]`) until the model starts making mistakes. You can simply re-run the same jupyter cell with increasing N-s: we don't expect a graph or exhaustive measurements here, just find one large enough N that the accuracy isn't perfect anymore."
   ]
  },
  {
   "cell_type": "code",
   "execution_count": 77,
   "metadata": {},
   "outputs": [
    {
     "data": {
      "text/html": [
       "<div>\n",
       "<style scoped>\n",
       "    .dataframe tbody tr th:only-of-type {\n",
       "        vertical-align: middle;\n",
       "    }\n",
       "\n",
       "    .dataframe tbody tr th {\n",
       "        vertical-align: top;\n",
       "    }\n",
       "\n",
       "    .dataframe thead th {\n",
       "        text-align: right;\n",
       "    }\n",
       "</style>\n",
       "<table border=\"1\" class=\"dataframe\">\n",
       "  <thead>\n",
       "    <tr style=\"text-align: right;\">\n",
       "      <th>col_0</th>\n",
       "      <th>False</th>\n",
       "      <th>True</th>\n",
       "    </tr>\n",
       "    <tr>\n",
       "      <th>row_0</th>\n",
       "      <th></th>\n",
       "      <th></th>\n",
       "    </tr>\n",
       "  </thead>\n",
       "  <tbody>\n",
       "    <tr>\n",
       "      <th>0</th>\n",
       "      <td>16</td>\n",
       "      <td>8</td>\n",
       "    </tr>\n",
       "    <tr>\n",
       "      <th>1</th>\n",
       "      <td>4</td>\n",
       "      <td>12</td>\n",
       "    </tr>\n",
       "  </tbody>\n",
       "</table>\n",
       "</div>"
      ],
      "text/plain": [
       "col_0  False  True \n",
       "row_0              \n",
       "0         16      8\n",
       "1          4     12"
      ]
     },
     "execution_count": 77,
     "metadata": {},
     "output_type": "execute_result"
    }
   ],
   "source": [
    "N = 2500\n",
    "clf2 = SVC(kernel = 'linear')\n",
    "clf2.fit(data.iloc[::2,::N], target[::2])\n",
    "res2 = clf2.predict(data.iloc[1::2,::N])\n",
    "pd.crosstab(res2, is_hfd[1::2])"
   ]
  },
  {
   "cell_type": "code",
   "execution_count": 69,
   "metadata": {},
   "outputs": [
    {
     "data": {
      "text/plain": [
       "3901"
      ]
     },
     "execution_count": 69,
     "metadata": {},
     "output_type": "execute_result"
    }
   ],
   "source": [
    "N"
   ]
  },
  {
   "cell_type": "code",
   "execution_count": 74,
   "metadata": {},
   "outputs": [
    {
     "data": {
      "text/plain": [
       "Text(0.5,1,'Removing features')"
      ]
     },
     "execution_count": 74,
     "metadata": {},
     "output_type": "execute_result"
    },
    {
     "data": {
      "image/png": "[encoded data removed]",
      "text/plain": [
       "<matplotlib.figure.Figure at 0x16dd9dc3048>"
      ]
     },
     "metadata": {},
     "output_type": "display_data"
    }
   ],
   "source": [
    "num_mist_list = []\n",
    "X = []\n",
    "for N in range(1, 3000, 10):\n",
    "    clf2 = SVC(kernel = 'linear')\n",
    "    clf2.fit(data.iloc[::2,::N], target[::2])\n",
    "    res2 = clf2.predict(data.iloc[1::2,::N])\n",
    "    cross = pd.crosstab(res2, is_hfd[1::2])\n",
    "    num_mist = cross.iloc[0,1]+ cross.iloc[1,0]\n",
    "    num_mist_list.append(num_mist)\n",
    "    X.append(N)\n",
    "plt.scatter(X, num_mist_list, alpha = 0.5)\n",
    "plt.xlabel('Every Xth gene entry is kept')\n",
    "plt.ylabel('Number of mistakes')\n",
    "plt.title('Removing features')"
   ]
  },
  {
   "cell_type": "markdown",
   "metadata": {},
   "source": [
    "You can see that the number of wrong assignments in the prediction dataset increases with the number of removed features"
   ]
  },
  {
   "cell_type": "code",
   "execution_count": 76,
   "metadata": {
    "scrolled": true
   },
   "outputs": [
    {
     "data": {
      "text/plain": [
       "Text(0.5,1,'Reducing sample size')"
      ]
     },
     "execution_count": 76,
     "metadata": {},
     "output_type": "execute_result"
    },
    {
     "data": {
      "image/png": "[encoded data removed]",
      "text/plain": [
       "<matplotlib.figure.Figure at 0x16dda0f8a20>"
      ]
     },
     "metadata": {},
     "output_type": "display_data"
    }
   ],
   "source": [
    "'''Reducing sample sice'''\n",
    "num_mist_list = []\n",
    "X = []\n",
    "for N in range(1, 26):\n",
    "    clf3 = SVC(kernel = 'linear')\n",
    "    clf3.fit(data.iloc[::N,:], target[::N])\n",
    "    res3 = clf3.predict(data[1::N])\n",
    "    cross = pd.crosstab(res3, is_hfd[1::N])\n",
    "    num_mist = cross.iloc[0,1]+ cross.iloc[1,0]\n",
    "    num_mist_list.append(num_mist)\n",
    "    X.append(N)\n",
    "plt.scatter(X, num_mist_list)\n",
    "plt.title('Reducing sample size')"
   ]
  },
  {
   "cell_type": "markdown",
   "metadata": {},
   "source": [
    "The reduction of the sample size however does not result in significant amounts of mistakes"
   ]
  },
  {
   "cell_type": "markdown",
   "metadata": {},
   "source": [
    "### 1.5: Perform cross-validation\n",
    "Previously you had separated your data into a disjoint training and testing set, trained the model with the training set and computed its accuracy on the testing set. But you could also switch them around (train with `1::2`, test with `::2`) and compute a second accuracy value. The average of those two values would give you an even better estimate of the real accuracy. This would be called a *2-fold cross-validation*.\n",
    "\n",
    "3-fold cross-validation is when you split your data to D1/D2/D3 thirds, train the model with D1+D2 and test on D3. Then train with D1+D3 and test on D2, finally train with D2+D3 and test on D1. The average of the three accuracy values would be your model's 3-fold cross-validated accuracy.\n",
    "\n",
    "(Sidenote: the *model* is the SVM with whatever parameters it has (linear + defaults) and the features that you use. During cross-validation you test different *instances* of the same model: you train them with different data so they will all end up slightly different, you test them with different data so the accuracy estimates will also be different, but you are validating the same *model* all along.)\n",
    "\n",
    "`sklearn` gives you helper classes to split your data into training and testing sets following a cross-validation scheme, saving you most of the legwork. Some classes even support features like random shuffling, or stratification (keeping labels balanced across training/testing classes). Browse the documentation, choose one that you like, and cross-validate your model on the restricted amount of features chosen in 1.4.2."
   ]
  },
  {
   "cell_type": "code",
   "execution_count": 83,
   "metadata": {},
   "outputs": [
    {
     "data": {
      "text/plain": [
       "0.7"
      ]
     },
     "execution_count": 83,
     "metadata": {},
     "output_type": "execute_result"
    }
   ],
   "source": [
    "N = 2500\n",
    "clf2 = SVC(kernel = 'linear')\n",
    "clf2.fit(data.iloc[::2,::N], target[::2])\n",
    "res2 = clf2.predict(data.iloc[1::2,::N])\n",
    "pd.crosstab(res2, is_hfd[1::2])\n",
    "#SVC.score(res2, is_hfd[1::2])\n",
    "sklearn.metrics.accuracy_score(res2, is_hfd[1::2])"
   ]
  },
  {
   "cell_type": "code",
   "execution_count": 105,
   "metadata": {},
   "outputs": [
    {
     "name": "stdout",
     "output_type": "stream",
     "text": [
      "KFold(n_splits=2, random_state=111, shuffle=True)\n"
     ]
    },
    {
     "data": {
      "text/html": [
       "<div>\n",
       "<style scoped>\n",
       "    .dataframe tbody tr th:only-of-type {\n",
       "        vertical-align: middle;\n",
       "    }\n",
       "\n",
       "    .dataframe tbody tr th {\n",
       "        vertical-align: top;\n",
       "    }\n",
       "\n",
       "    .dataframe thead th {\n",
       "        text-align: right;\n",
       "    }\n",
       "</style>\n",
       "<table border=\"1\" class=\"dataframe\">\n",
       "  <thead>\n",
       "    <tr style=\"text-align: right;\">\n",
       "      <th>col_0</th>\n",
       "      <th>0</th>\n",
       "      <th>1</th>\n",
       "    </tr>\n",
       "    <tr>\n",
       "      <th>row_0</th>\n",
       "      <th></th>\n",
       "      <th></th>\n",
       "    </tr>\n",
       "  </thead>\n",
       "  <tbody>\n",
       "    <tr>\n",
       "      <th>0</th>\n",
       "      <td>14</td>\n",
       "      <td>13</td>\n",
       "    </tr>\n",
       "    <tr>\n",
       "      <th>1</th>\n",
       "      <td>4</td>\n",
       "      <td>10</td>\n",
       "    </tr>\n",
       "  </tbody>\n",
       "</table>\n",
       "</div>"
      ],
      "text/plain": [
       "col_0   0   1\n",
       "row_0        \n",
       "0      14  13\n",
       "1       4  10"
      ]
     },
     "metadata": {},
     "output_type": "display_data"
    },
    {
     "name": "stdout",
     "output_type": "stream",
     "text": [
      "0.5853658536585366\n"
     ]
    },
    {
     "data": {
      "text/html": [
       "<div>\n",
       "<style scoped>\n",
       "    .dataframe tbody tr th:only-of-type {\n",
       "        vertical-align: middle;\n",
       "    }\n",
       "\n",
       "    .dataframe tbody tr th {\n",
       "        vertical-align: top;\n",
       "    }\n",
       "\n",
       "    .dataframe thead th {\n",
       "        text-align: right;\n",
       "    }\n",
       "</style>\n",
       "<table border=\"1\" class=\"dataframe\">\n",
       "  <thead>\n",
       "    <tr style=\"text-align: right;\">\n",
       "      <th>col_0</th>\n",
       "      <th>0</th>\n",
       "      <th>1</th>\n",
       "    </tr>\n",
       "    <tr>\n",
       "      <th>row_0</th>\n",
       "      <th></th>\n",
       "      <th></th>\n",
       "    </tr>\n",
       "  </thead>\n",
       "  <tbody>\n",
       "    <tr>\n",
       "      <th>0</th>\n",
       "      <td>18</td>\n",
       "      <td>2</td>\n",
       "    </tr>\n",
       "    <tr>\n",
       "      <th>1</th>\n",
       "      <td>5</td>\n",
       "      <td>15</td>\n",
       "    </tr>\n",
       "  </tbody>\n",
       "</table>\n",
       "</div>"
      ],
      "text/plain": [
       "col_0   0   1\n",
       "row_0        \n",
       "0      18   2\n",
       "1       5  15"
      ]
     },
     "metadata": {},
     "output_type": "display_data"
    },
    {
     "name": "stdout",
     "output_type": "stream",
     "text": [
      "0.825\n",
      "Average acc:  0.7051829268292682\n"
     ]
    }
   ],
   "source": [
    "N = 2500\n",
    "data_cut = data.iloc[:,::N]\n",
    "kf = KFold(n_splits=2, random_state=111, shuffle=True)\n",
    "kf.get_n_splits(data)\n",
    "print(kf)\n",
    "acc_list = []\n",
    "for train_index, test_index in kf.split(data_cut):\n",
    "    \n",
    "    X_train, X_test = data_cut.iloc[train_index], data_cut.iloc[test_index]\n",
    "    y_train, y_test = target[train_index], target[test_index]\n",
    "    clf5 = SVC(kernel = 'linear')\n",
    "    clf5.fit(X_train, y_train)\n",
    "    res5 = clf5.predict(X_test)\n",
    "    display(pd.crosstab(res5, y_test))\n",
    "    print(sklearn.metrics.accuracy_score(res5, y_test))\n",
    "    acc_list.append(sklearn.metrics.accuracy_score(res5, y_test))\n",
    "avg_acc = sum(acc_list)/len(acc_list)\n",
    "print('Average acc: ', avg_acc)"
   ]
  },
  {
   "cell_type": "markdown",
   "metadata": {},
   "source": [
    "### 1.6: Optional: Play around\n",
    "\n",
    "Ideas: Test the limits of the linear SVM by choosing an increasing number of random features, train and cross-validate multiple SVM instances for each, and plot the average accuracy as a function the number of features used. Try different kernels and parameters. Test robustness: add noise to the data, or introduce a few random mistakes in the training labels."
   ]
  },
  {
   "cell_type": "markdown",
   "metadata": {},
   "source": [
    "# Played around a lot in sec 1.4.2 already"
   ]
  },
  {
   "cell_type": "code",
   "execution_count": 107,
   "metadata": {},
   "outputs": [],
   "source": [
    "\n",
    "noise = np.random.normal(loc = 0, scale = 1.0, size = np.shape(data))\n",
    "data_noise = noise + data"
   ]
  },
  {
   "cell_type": "code",
   "execution_count": 108,
   "metadata": {},
   "outputs": [
    {
     "name": "stdout",
     "output_type": "stream",
     "text": [
      "KFold(n_splits=2, random_state=111, shuffle=True)\n"
     ]
    },
    {
     "data": {
      "text/html": [
       "<div>\n",
       "<style scoped>\n",
       "    .dataframe tbody tr th:only-of-type {\n",
       "        vertical-align: middle;\n",
       "    }\n",
       "\n",
       "    .dataframe tbody tr th {\n",
       "        vertical-align: top;\n",
       "    }\n",
       "\n",
       "    .dataframe thead th {\n",
       "        text-align: right;\n",
       "    }\n",
       "</style>\n",
       "<table border=\"1\" class=\"dataframe\">\n",
       "  <thead>\n",
       "    <tr style=\"text-align: right;\">\n",
       "      <th>col_0</th>\n",
       "      <th>0</th>\n",
       "      <th>1</th>\n",
       "    </tr>\n",
       "    <tr>\n",
       "      <th>row_0</th>\n",
       "      <th></th>\n",
       "      <th></th>\n",
       "    </tr>\n",
       "  </thead>\n",
       "  <tbody>\n",
       "    <tr>\n",
       "      <th>0</th>\n",
       "      <td>18</td>\n",
       "      <td>3</td>\n",
       "    </tr>\n",
       "    <tr>\n",
       "      <th>1</th>\n",
       "      <td>0</td>\n",
       "      <td>20</td>\n",
       "    </tr>\n",
       "  </tbody>\n",
       "</table>\n",
       "</div>"
      ],
      "text/plain": [
       "col_0   0   1\n",
       "row_0        \n",
       "0      18   3\n",
       "1       0  20"
      ]
     },
     "metadata": {},
     "output_type": "display_data"
    },
    {
     "name": "stdout",
     "output_type": "stream",
     "text": [
      "0.926829268292683\n"
     ]
    },
    {
     "data": {
      "text/html": [
       "<div>\n",
       "<style scoped>\n",
       "    .dataframe tbody tr th:only-of-type {\n",
       "        vertical-align: middle;\n",
       "    }\n",
       "\n",
       "    .dataframe tbody tr th {\n",
       "        vertical-align: top;\n",
       "    }\n",
       "\n",
       "    .dataframe thead th {\n",
       "        text-align: right;\n",
       "    }\n",
       "</style>\n",
       "<table border=\"1\" class=\"dataframe\">\n",
       "  <thead>\n",
       "    <tr style=\"text-align: right;\">\n",
       "      <th>col_0</th>\n",
       "      <th>0</th>\n",
       "      <th>1</th>\n",
       "    </tr>\n",
       "    <tr>\n",
       "      <th>row_0</th>\n",
       "      <th></th>\n",
       "      <th></th>\n",
       "    </tr>\n",
       "  </thead>\n",
       "  <tbody>\n",
       "    <tr>\n",
       "      <th>0</th>\n",
       "      <td>22</td>\n",
       "      <td>0</td>\n",
       "    </tr>\n",
       "    <tr>\n",
       "      <th>1</th>\n",
       "      <td>1</td>\n",
       "      <td>17</td>\n",
       "    </tr>\n",
       "  </tbody>\n",
       "</table>\n",
       "</div>"
      ],
      "text/plain": [
       "col_0   0   1\n",
       "row_0        \n",
       "0      22   0\n",
       "1       1  17"
      ]
     },
     "metadata": {},
     "output_type": "display_data"
    },
    {
     "name": "stdout",
     "output_type": "stream",
     "text": [
      "0.975\n",
      "Average acc:  0.9509146341463415\n"
     ]
    }
   ],
   "source": [
    "#N = 2500\n",
    "data_cut = data_noise.copy()\n",
    "#data_cut = data.iloc[:,::N]\n",
    "kf = KFold(n_splits=2, random_state=111, shuffle=True)\n",
    "kf.get_n_splits(data)\n",
    "print(kf)\n",
    "acc_list = []\n",
    "for train_index, test_index in kf.split(data_cut):\n",
    "    \n",
    "    X_train, X_test = data_cut.iloc[train_index], data_cut.iloc[test_index]\n",
    "    y_train, y_test = target[train_index], target[test_index]\n",
    "    clf5 = SVC(kernel = 'linear')\n",
    "    clf5.fit(X_train, y_train)\n",
    "    res5 = clf5.predict(X_test)\n",
    "    display(pd.crosstab(res5, y_test))\n",
    "    print(sklearn.metrics.accuracy_score(res5, y_test))\n",
    "    acc_list.append(sklearn.metrics.accuracy_score(res5, y_test))\n",
    "avg_acc = sum(acc_list)/len(acc_list)\n",
    "print('Average acc: ', avg_acc)"
   ]
  },
  {
   "cell_type": "code",
   "execution_count": 126,
   "metadata": {},
   "outputs": [],
   "source": [
    "def noise_add(data, scale):\n",
    "    noise = np.random.normal(loc = 0, scale = scale, size = np.shape(data))\n",
    "    data_noise = noise + data\n",
    "    data_cut = data_noise.copy()\n",
    "    #data_cut = data.iloc[:,::N]\n",
    "    kf = KFold(n_splits=2, random_state=111, shuffle=True)\n",
    "    #kf.get_n_splits(data)\n",
    "    print(kf)\n",
    "    acc_list = []\n",
    "    for train_index, test_index in kf.split(data_cut):\n",
    "\n",
    "        X_train, X_test = data_cut.iloc[train_index], data_cut.iloc[test_index]\n",
    "        y_train, y_test = target[train_index], target[test_index]\n",
    "        clf5 = SVC(kernel = 'linear')\n",
    "        clf5.fit(X_train, y_train)\n",
    "        res5 = clf5.predict(X_test)\n",
    "        #display(pd.crosstab(res5, y_test))\n",
    "        #print(sklearn.metrics.accuracy_score(res5, y_test))\n",
    "        acc_list.append(sklearn.metrics.accuracy_score(res5, y_test))\n",
    "    avg_acc = sum(acc_list)/len(acc_list)\n",
    "    #print('Average acc: ', avg_acc)\n",
    "    return avg_acc"
   ]
  },
  {
   "cell_type": "code",
   "execution_count": 127,
   "metadata": {},
   "outputs": [
    {
     "name": "stdout",
     "output_type": "stream",
     "text": [
      "KFold(n_splits=2, random_state=111, shuffle=True)\n",
      "KFold(n_splits=2, random_state=111, shuffle=True)\n",
      "KFold(n_splits=2, random_state=111, shuffle=True)\n",
      "KFold(n_splits=2, random_state=111, shuffle=True)\n",
      "KFold(n_splits=2, random_state=111, shuffle=True)\n",
      "KFold(n_splits=2, random_state=111, shuffle=True)\n",
      "KFold(n_splits=2, random_state=111, shuffle=True)\n",
      "KFold(n_splits=2, random_state=111, shuffle=True)\n",
      "KFold(n_splits=2, random_state=111, shuffle=True)\n",
      "KFold(n_splits=2, random_state=111, shuffle=True)\n",
      "KFold(n_splits=2, random_state=111, shuffle=True)\n",
      "KFold(n_splits=2, random_state=111, shuffle=True)\n",
      "KFold(n_splits=2, random_state=111, shuffle=True)\n",
      "KFold(n_splits=2, random_state=111, shuffle=True)\n",
      "KFold(n_splits=2, random_state=111, shuffle=True)\n",
      "KFold(n_splits=2, random_state=111, shuffle=True)\n",
      "KFold(n_splits=2, random_state=111, shuffle=True)\n",
      "KFold(n_splits=2, random_state=111, shuffle=True)\n",
      "KFold(n_splits=2, random_state=111, shuffle=True)\n",
      "KFold(n_splits=2, random_state=111, shuffle=True)\n",
      "KFold(n_splits=2, random_state=111, shuffle=True)\n",
      "KFold(n_splits=2, random_state=111, shuffle=True)\n",
      "KFold(n_splits=2, random_state=111, shuffle=True)\n",
      "KFold(n_splits=2, random_state=111, shuffle=True)\n",
      "KFold(n_splits=2, random_state=111, shuffle=True)\n",
      "KFold(n_splits=2, random_state=111, shuffle=True)\n",
      "KFold(n_splits=2, random_state=111, shuffle=True)\n",
      "KFold(n_splits=2, random_state=111, shuffle=True)\n",
      "KFold(n_splits=2, random_state=111, shuffle=True)\n",
      "KFold(n_splits=2, random_state=111, shuffle=True)\n",
      "KFold(n_splits=2, random_state=111, shuffle=True)\n",
      "KFold(n_splits=2, random_state=111, shuffle=True)\n",
      "KFold(n_splits=2, random_state=111, shuffle=True)\n",
      "KFold(n_splits=2, random_state=111, shuffle=True)\n",
      "KFold(n_splits=2, random_state=111, shuffle=True)\n",
      "KFold(n_splits=2, random_state=111, shuffle=True)\n",
      "KFold(n_splits=2, random_state=111, shuffle=True)\n",
      "KFold(n_splits=2, random_state=111, shuffle=True)\n",
      "KFold(n_splits=2, random_state=111, shuffle=True)\n",
      "KFold(n_splits=2, random_state=111, shuffle=True)\n"
     ]
    },
    {
     "data": {
      "text/plain": [
       "Text(0.5,1,'Robustness towards noise')"
      ]
     },
     "execution_count": 127,
     "metadata": {},
     "output_type": "execute_result"
    },
    {
     "data": {
      "image/png": "[encoded data removed]",
      "text/plain": [
       "<matplotlib.figure.Figure at 0x16de8cbe080>"
      ]
     },
     "metadata": {},
     "output_type": "display_data"
    }
   ],
   "source": [
    "avg_acc_list = []\n",
    "scale_list = []\n",
    "for scale in np.arange(0,5, 0.125):\n",
    "    scale_list.append(scale)\n",
    "    avg_acc = noise_add(data, scale)\n",
    "    avg_acc_list.append(avg_acc)\n",
    "plt.scatter(scale_list, avg_acc_list)  \n",
    "plt.xlabel('Scale of noise')\n",
    "plt.ylabel('Accuracy score (2 fold)')\n",
    "plt.title('Robustness towards noise')"
   ]
  },
  {
   "cell_type": "code",
   "execution_count": 138,
   "metadata": {},
   "outputs": [],
   "source": [
    "def dev_noise_add(data, scale, kind = 'exp'):\n",
    "    if kind == 'dob_norm':\n",
    "        \n",
    "        other_scale = np.abs(np.random.normal(loc = 0, scale = scale))\n",
    "        noise = np.random.normal(loc = 0, scale = other_scale)\n",
    "    elif kind == 'exp':\n",
    "        noise = np.random.exponential(scale = scale)\n",
    "    data_noise = noise + data\n",
    "    data_cut = data_noise.copy()\n",
    "    #data_cut = data.iloc[:,::N]\n",
    "    kf = KFold(n_splits=2, random_state=111, shuffle=True)\n",
    "    #kf.get_n_splits(data)\n",
    "    print(kf)\n",
    "    acc_list = []\n",
    "    for train_index, test_index in kf.split(data_cut):\n",
    "\n",
    "        X_train, X_test = data_cut.iloc[train_index], data_cut.iloc[test_index]\n",
    "        y_train, y_test = target[train_index], target[test_index]\n",
    "        clf5 = SVC(kernel = 'linear')\n",
    "        clf5.fit(X_train, y_train)\n",
    "        res5 = clf5.predict(X_test)\n",
    "        #display(pd.crosstab(res5, y_test))\n",
    "        #print(sklearn.metrics.accuracy_score(res5, y_test))\n",
    "        acc_list.append(sklearn.metrics.accuracy_score(res5, y_test))\n",
    "    avg_acc = sum(acc_list)/len(acc_list)\n",
    "    #print('Average acc: ', avg_acc)\n",
    "    return avg_acc\n"
   ]
  },
  {
   "cell_type": "code",
   "execution_count": null,
   "metadata": {},
   "outputs": [
    {
     "name": "stdout",
     "output_type": "stream",
     "text": [
      "KFold(n_splits=2, random_state=111, shuffle=True)\n",
      "KFold(n_splits=2, random_state=111, shuffle=True)\n",
      "KFold(n_splits=2, random_state=111, shuffle=True)\n",
      "KFold(n_splits=2, random_state=111, shuffle=True)\n",
      "KFold(n_splits=2, random_state=111, shuffle=True)\n",
      "KFold(n_splits=2, random_state=111, shuffle=True)\n",
      "KFold(n_splits=2, random_state=111, shuffle=True)\n",
      "KFold(n_splits=2, random_state=111, shuffle=True)\n",
      "KFold(n_splits=2, random_state=111, shuffle=True)\n",
      "KFold(n_splits=2, random_state=111, shuffle=True)\n",
      "KFold(n_splits=2, random_state=111, shuffle=True)\n",
      "KFold(n_splits=2, random_state=111, shuffle=True)\n",
      "KFold(n_splits=2, random_state=111, shuffle=True)\n",
      "KFold(n_splits=2, random_state=111, shuffle=True)\n",
      "KFold(n_splits=2, random_state=111, shuffle=True)\n",
      "KFold(n_splits=2, random_state=111, shuffle=True)\n",
      "KFold(n_splits=2, random_state=111, shuffle=True)\n",
      "KFold(n_splits=2, random_state=111, shuffle=True)\n",
      "KFold(n_splits=2, random_state=111, shuffle=True)\n",
      "KFold(n_splits=2, random_state=111, shuffle=True)\n",
      "KFold(n_splits=2, random_state=111, shuffle=True)\n",
      "KFold(n_splits=2, random_state=111, shuffle=True)\n",
      "KFold(n_splits=2, random_state=111, shuffle=True)\n",
      "KFold(n_splits=2, random_state=111, shuffle=True)\n",
      "KFold(n_splits=2, random_state=111, shuffle=True)\n",
      "KFold(n_splits=2, random_state=111, shuffle=True)\n",
      "KFold(n_splits=2, random_state=111, shuffle=True)\n",
      "KFold(n_splits=2, random_state=111, shuffle=True)\n",
      "KFold(n_splits=2, random_state=111, shuffle=True)\n",
      "KFold(n_splits=2, random_state=111, shuffle=True)\n",
      "KFold(n_splits=2, random_state=111, shuffle=True)\n",
      "KFold(n_splits=2, random_state=111, shuffle=True)\n",
      "KFold(n_splits=2, random_state=111, shuffle=True)\n",
      "KFold(n_splits=2, random_state=111, shuffle=True)\n",
      "KFold(n_splits=2, random_state=111, shuffle=True)\n",
      "KFold(n_splits=2, random_state=111, shuffle=True)\n",
      "KFold(n_splits=2, random_state=111, shuffle=True)\n",
      "KFold(n_splits=2, random_state=111, shuffle=True)\n",
      "KFold(n_splits=2, random_state=111, shuffle=True)\n",
      "KFold(n_splits=2, random_state=111, shuffle=True)\n",
      "KFold(n_splits=2, random_state=111, shuffle=True)\n",
      "KFold(n_splits=2, random_state=111, shuffle=True)\n",
      "KFold(n_splits=2, random_state=111, shuffle=True)\n",
      "KFold(n_splits=2, random_state=111, shuffle=True)\n",
      "KFold(n_splits=2, random_state=111, shuffle=True)\n",
      "KFold(n_splits=2, random_state=111, shuffle=True)\n",
      "KFold(n_splits=2, random_state=111, shuffle=True)\n",
      "KFold(n_splits=2, random_state=111, shuffle=True)\n",
      "KFold(n_splits=2, random_state=111, shuffle=True)\n",
      "KFold(n_splits=2, random_state=111, shuffle=True)\n",
      "KFold(n_splits=2, random_state=111, shuffle=True)\n",
      "KFold(n_splits=2, random_state=111, shuffle=True)\n",
      "KFold(n_splits=2, random_state=111, shuffle=True)\n",
      "KFold(n_splits=2, random_state=111, shuffle=True)\n",
      "KFold(n_splits=2, random_state=111, shuffle=True)\n",
      "KFold(n_splits=2, random_state=111, shuffle=True)\n",
      "KFold(n_splits=2, random_state=111, shuffle=True)\n",
      "KFold(n_splits=2, random_state=111, shuffle=True)\n",
      "KFold(n_splits=2, random_state=111, shuffle=True)\n",
      "KFold(n_splits=2, random_state=111, shuffle=True)\n",
      "KFold(n_splits=2, random_state=111, shuffle=True)\n",
      "KFold(n_splits=2, random_state=111, shuffle=True)\n",
      "KFold(n_splits=2, random_state=111, shuffle=True)\n",
      "KFold(n_splits=2, random_state=111, shuffle=True)\n",
      "KFold(n_splits=2, random_state=111, shuffle=True)\n",
      "KFold(n_splits=2, random_state=111, shuffle=True)\n"
     ]
    }
   ],
   "source": [
    "avg_acc_list = []\n",
    "scale_list = []\n",
    "#for scale in np.arange(0,5, 0.125):\n",
    "for scale in np.arange(0,1000, 10):\n",
    "    scale_list.append(scale)\n",
    "    avg_acc = dev_noise_add(data, scale, kind = 'exp')\n",
    "    avg_acc_list.append(avg_acc)\n",
    "plt.scatter(scale_list, avg_acc_list)  \n",
    "plt.xlabel('Scale of noise')\n",
    "plt.ylabel('Accuracy score (2 fold)')\n",
    "plt.title('Robustness towards noise with exponentially distributed noise')"
   ]
  }
 ],
 "metadata": {
  "kernelspec": {
   "display_name": "Python 3",
   "language": "python",
   "name": "python3"
  },
  "language_info": {
   "codemirror_mode": {
    "name": "ipython",
    "version": 3
   },
   "file_extension": ".py",
   "mimetype": "text/x-python",
   "name": "python",
   "nbconvert_exporter": "python",
   "pygments_lexer": "ipython3",
   "version": "3.6.4"
  }
 },
 "nbformat": 4,
 "nbformat_minor": 2
}
