{
 "cells": [
  {
   "cell_type": "markdown",
   "metadata": {},
   "source": [
    "*Manually copy the below tasks at the end of your Day56_DE_Analysis notebook. Continue working with whatever DataFrames you loaded and created there. This isn't a separate notebook, it's a continuation of the one we started on Friday.*"
   ]
  },
  {
   "cell_type": "markdown",
   "metadata": {},
   "source": [
    "## Task 5: Expression heatmaps\n",
    "    \n",
    "Heatmaps are a standard way of visualizing the expression of multiple genes across a set of samples, especially so if one is interested in the expression signatures associated with different conditions. Heatmap visualization is often combined with clustering in order to group genes and/or samples with similar expression profiles together, therefore we will use seaborn's `clustermap` to do the job.\n",
    "\n",
    "Since the number of measured genes is very high (20,000+) in our experiment, it isn't practical to place them all on a heat map. For a start, limit yourself to every 100th gene and create a clustered heatmap out of their expression values.\n",
    "\n",
    "Does this visualization seem useful to you? Why not?"
   ]
  },
  {
   "cell_type": "code",
   "execution_count": null,
   "metadata": {
    "collapsed": true
   },
   "outputs": [],
   "source": []
  },
  {
   "cell_type": "markdown",
   "metadata": {},
   "source": [
    "### Subtask 5.1\n",
    "\n",
    "As the variance of expression values for individual genes is much lower than the variance of expression levels across the entire transcriptome, it is natural to normalize expression values and display differences from each gene's average expression, instead of just plotting the raw expression values. You already know how to do this normalization for an entire DataFrame with a single expression. Does the heatmap look more appealing to you now?"
   ]
  },
  {
   "cell_type": "code",
   "execution_count": null,
   "metadata": {
    "collapsed": true
   },
   "outputs": [],
   "source": []
  },
  {
   "cell_type": "markdown",
   "metadata": {},
   "source": [
    "### Subtask 5.2\n",
    "Use a diverging colormap, and center it at zero, so that the neutral midpoint color (black or white) represents the average expression, while the diverging red/blue or red/green colors represent up- and down-regulation.\n",
    "\n",
    "Scale your heatmap's color bar, so that it doesn't get stretched out too much due to a few outliers.\n",
    "\n",
    "Try to add color labels to the samples to visually distinguish CD and HFD columns easily. Eventually you should arrive at an informative and visually appealing heatmap. With the color labels now displayed, are you happy with the clustering?"
   ]
  },
  {
   "cell_type": "code",
   "execution_count": null,
   "metadata": {
    "collapsed": true
   },
   "outputs": [],
   "source": []
  },
  {
   "cell_type": "markdown",
   "metadata": {},
   "source": [
    "### Subtask 5.3\n",
    "\n",
    "Now instead of using every 100th row, invent some criteria based on which you can pick the approximately 100-200 \"most interesting\" differentially expressed genes, and create a heatmap for them.\n",
    "\n",
    "It would be best to formulate your criteria such that it results in a binary Series with which you can slice your normalized expression DataFrame. You can find out the number of `True` values in a Series by simply summing it.\n",
    "\n",
    "What does the heatmap of the most interesting genes look like?"
   ]
  },
  {
   "cell_type": "code",
   "execution_count": null,
   "metadata": {
    "collapsed": true
   },
   "outputs": [],
   "source": []
  }
 ],
 "metadata": {
  "kernelspec": {
   "display_name": "Python 3",
   "language": "python",
   "name": "python3"
  },
  "language_info": {
   "codemirror_mode": {
    "name": "ipython",
    "version": 3
   },
   "file_extension": ".py",
   "mimetype": "text/x-python",
   "name": "python",
   "nbconvert_exporter": "python",
   "pygments_lexer": "ipython3",
   "version": "3.6.4"
  }
 },
 "nbformat": 4,
 "nbformat_minor": 2
}
