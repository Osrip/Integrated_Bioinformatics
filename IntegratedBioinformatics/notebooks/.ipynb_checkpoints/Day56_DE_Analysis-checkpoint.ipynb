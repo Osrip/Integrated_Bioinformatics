{
 "cells": [
  {
   "cell_type": "markdown",
   "metadata": {},
   "source": [
    "General review:\n",
    "\n",
    "https://genomebiology.biomedcentral.com/articles/10.1186/gb-2003-4-4-210\n",
    "\n",
    "(doi:10.1186/gb-2003-4-4-210)"
   ]
  },
  {
   "cell_type": "code",
   "execution_count": 52,
   "metadata": {},
   "outputs": [
    {
     "name": "stderr",
     "output_type": "stream",
     "text": [
      "C:\\Users\\Admin\\Anaconda3\\lib\\site-packages\\statsmodels\\compat\\pandas.py:56: FutureWarning: The pandas.core.datetools module is deprecated and will be removed in a future version. Please use the pandas.tseries module instead.\n",
      "  from pandas.core import datetools\n"
     ]
    }
   ],
   "source": [
    "# imports\n",
    "import numpy as np\n",
    "import pandas as pd\n",
    "import matplotlib.pyplot as plt\n",
    "import os\n",
    "import seaborn as sns\n",
    "import scipy.stats as stats\n",
    "from random import randint\n",
    "import random as rand\n",
    "from matplotlib import pylab\n",
    "from statsmodels.sandbox.stats.multicomp import multipletests\n",
    "import statsmodels.api as sm"
   ]
  },
  {
   "cell_type": "code",
   "execution_count": null,
   "metadata": {},
   "outputs": [],
   "source": []
  },
  {
   "cell_type": "markdown",
   "metadata": {},
   "source": [
    "## Subtask 0: Download the gene expression data"
   ]
  },
  {
   "cell_type": "markdown",
   "metadata": {},
   "source": [
    "\n",
    "http://science.sciencemag.org/highwire/filestream/680254/field_highwire_adjunct_files/5/aad0189_DataFileS5.xlsx"
   ]
  },
  {
   "cell_type": "code",
   "execution_count": null,
   "metadata": {},
   "outputs": [],
   "source": []
  },
  {
   "cell_type": "markdown",
   "metadata": {},
   "source": [
    "## Task 1: Data wrangling"
   ]
  },
  {
   "cell_type": "markdown",
   "metadata": {},
   "source": [
    "For some more information on and examples of the plot types we will use here, see:<br>\n",
    "http://www.arrayanalysis.org/main.html"
   ]
  },
  {
   "cell_type": "markdown",
   "metadata": {},
   "source": [
    "### Subtask 1.1: Read in aad0189_DataFileS5.xlsx with pandas\n",
    "Open the spreadsheet in Excel beforehand. Notice that the headers are in the first row, so use the `header` keyword to specify the header line for `read_excel()`."
   ]
  },
  {
   "cell_type": "code",
   "execution_count": 4,
   "metadata": {
    "scrolled": true
   },
   "outputs": [],
   "source": [
    "data = pd.read_excel(\"DAy2_Files\\\\aad0189_DataFileS5.xlsx\", header = 2)"
   ]
  },
  {
   "cell_type": "code",
   "execution_count": 5,
   "metadata": {},
   "outputs": [
    {
     "data": {
      "text/html": [
       "<div>\n",
       "<style scoped>\n",
       "    .dataframe tbody tr th:only-of-type {\n",
       "        vertical-align: middle;\n",
       "    }\n",
       "\n",
       "    .dataframe tbody tr th {\n",
       "        vertical-align: top;\n",
       "    }\n",
       "\n",
       "    .dataframe thead th {\n",
       "        text-align: right;\n",
       "    }\n",
       "</style>\n",
       "<table border=\"1\" class=\"dataframe\">\n",
       "  <thead>\n",
       "    <tr style=\"text-align: right;\">\n",
       "      <th></th>\n",
       "      <th>Original_Order</th>\n",
       "      <th>MATCH_ORDER</th>\n",
       "      <th>Gene</th>\n",
       "      <th>Probeset</th>\n",
       "      <th>Gene.1</th>\n",
       "      <th>Protein</th>\n",
       "      <th>Unnamed: 6</th>\n",
       "      <th>Range CD</th>\n",
       "      <th>Range HFD</th>\n",
       "      <th>Range_All</th>\n",
       "      <th>...</th>\n",
       "      <th>BXD89_Liver_HFD</th>\n",
       "      <th>BXD90_Liver_HFD</th>\n",
       "      <th>BXD95_Liver_HFD</th>\n",
       "      <th>BXD96_Liver_HFD</th>\n",
       "      <th>BXD97_Liver_HFD</th>\n",
       "      <th>BXD98_Liver_HFD</th>\n",
       "      <th>BXD99_Liver_HFD</th>\n",
       "      <th>BXD100_Liver_HFD</th>\n",
       "      <th>BXD101_Liver_HFD</th>\n",
       "      <th>BXD103_Liver_HFD</th>\n",
       "    </tr>\n",
       "  </thead>\n",
       "  <tbody>\n",
       "    <tr>\n",
       "      <th>0</th>\n",
       "      <td>12643</td>\n",
       "      <td>NaN</td>\n",
       "      <td>Igh</td>\n",
       "      <td>10403036</td>\n",
       "      <td>Igh</td>\n",
       "      <td>0</td>\n",
       "      <td>NaN</td>\n",
       "      <td>1.495886</td>\n",
       "      <td>1.720705</td>\n",
       "      <td>1.720705</td>\n",
       "      <td>...</td>\n",
       "      <td>4.959</td>\n",
       "      <td>5.483</td>\n",
       "      <td>5.347</td>\n",
       "      <td>5.087</td>\n",
       "      <td>5.125</td>\n",
       "      <td>5.160</td>\n",
       "      <td>5.020</td>\n",
       "      <td>5.170</td>\n",
       "      <td>4.775</td>\n",
       "      <td>4.982</td>\n",
       "    </tr>\n",
       "    <tr>\n",
       "      <th>1</th>\n",
       "      <td>12646</td>\n",
       "      <td>NaN</td>\n",
       "      <td>Igh</td>\n",
       "      <td>10403043</td>\n",
       "      <td>Igh</td>\n",
       "      <td>0</td>\n",
       "      <td>NaN</td>\n",
       "      <td>2.938337</td>\n",
       "      <td>1.988940</td>\n",
       "      <td>3.595021</td>\n",
       "      <td>...</td>\n",
       "      <td>7.415</td>\n",
       "      <td>7.252</td>\n",
       "      <td>7.547</td>\n",
       "      <td>7.358</td>\n",
       "      <td>7.424</td>\n",
       "      <td>7.447</td>\n",
       "      <td>7.567</td>\n",
       "      <td>7.732</td>\n",
       "      <td>7.365</td>\n",
       "      <td>7.369</td>\n",
       "    </tr>\n",
       "    <tr>\n",
       "      <th>2</th>\n",
       "      <td>12653</td>\n",
       "      <td>NaN</td>\n",
       "      <td>Igh</td>\n",
       "      <td>10403063</td>\n",
       "      <td>Igh</td>\n",
       "      <td>0</td>\n",
       "      <td>NaN</td>\n",
       "      <td>3.719220</td>\n",
       "      <td>1.859610</td>\n",
       "      <td>4.260433</td>\n",
       "      <td>...</td>\n",
       "      <td>6.665</td>\n",
       "      <td>6.948</td>\n",
       "      <td>6.999</td>\n",
       "      <td>6.974</td>\n",
       "      <td>6.886</td>\n",
       "      <td>6.876</td>\n",
       "      <td>7.027</td>\n",
       "      <td>7.093</td>\n",
       "      <td>6.748</td>\n",
       "      <td>6.771</td>\n",
       "    </tr>\n",
       "    <tr>\n",
       "      <th>3</th>\n",
       "      <td>8759</td>\n",
       "      <td>1458.0</td>\n",
       "      <td>Hcfc2</td>\n",
       "      <td>10365242</td>\n",
       "      <td>Hcfc2</td>\n",
       "      <td>A0AUN4</td>\n",
       "      <td>NaN</td>\n",
       "      <td>1.479388</td>\n",
       "      <td>1.465101</td>\n",
       "      <td>1.536875</td>\n",
       "      <td>...</td>\n",
       "      <td>9.177</td>\n",
       "      <td>9.021</td>\n",
       "      <td>8.803</td>\n",
       "      <td>8.928</td>\n",
       "      <td>8.914</td>\n",
       "      <td>8.838</td>\n",
       "      <td>9.056</td>\n",
       "      <td>8.924</td>\n",
       "      <td>8.945</td>\n",
       "      <td>8.865</td>\n",
       "    </tr>\n",
       "    <tr>\n",
       "      <th>4</th>\n",
       "      <td>18740</td>\n",
       "      <td>8191.0</td>\n",
       "      <td>Ccdc112</td>\n",
       "      <td>10458794</td>\n",
       "      <td>Ccdc112</td>\n",
       "      <td>A0AUP1</td>\n",
       "      <td>NaN</td>\n",
       "      <td>1.834008</td>\n",
       "      <td>1.943962</td>\n",
       "      <td>1.997229</td>\n",
       "      <td>...</td>\n",
       "      <td>6.623</td>\n",
       "      <td>6.371</td>\n",
       "      <td>6.187</td>\n",
       "      <td>6.310</td>\n",
       "      <td>6.448</td>\n",
       "      <td>6.531</td>\n",
       "      <td>6.167</td>\n",
       "      <td>6.401</td>\n",
       "      <td>6.470</td>\n",
       "      <td>6.565</td>\n",
       "    </tr>\n",
       "  </tbody>\n",
       "</table>\n",
       "<p>5 rows × 92 columns</p>\n",
       "</div>"
      ],
      "text/plain": [
       "   Original_Order  MATCH_ORDER     Gene  Probeset   Gene.1 Protein  \\\n",
       "0           12643          NaN      Igh  10403036      Igh       0   \n",
       "1           12646          NaN      Igh  10403043      Igh       0   \n",
       "2           12653          NaN      Igh  10403063      Igh       0   \n",
       "3            8759       1458.0    Hcfc2  10365242    Hcfc2  A0AUN4   \n",
       "4           18740       8191.0  Ccdc112  10458794  Ccdc112  A0AUP1   \n",
       "\n",
       "   Unnamed: 6  Range CD  Range HFD  Range_All        ...         \\\n",
       "0         NaN  1.495886   1.720705   1.720705        ...          \n",
       "1         NaN  2.938337   1.988940   3.595021        ...          \n",
       "2         NaN  3.719220   1.859610   4.260433        ...          \n",
       "3         NaN  1.479388   1.465101   1.536875        ...          \n",
       "4         NaN  1.834008   1.943962   1.997229        ...          \n",
       "\n",
       "   BXD89_Liver_HFD  BXD90_Liver_HFD  BXD95_Liver_HFD  BXD96_Liver_HFD  \\\n",
       "0            4.959            5.483            5.347            5.087   \n",
       "1            7.415            7.252            7.547            7.358   \n",
       "2            6.665            6.948            6.999            6.974   \n",
       "3            9.177            9.021            8.803            8.928   \n",
       "4            6.623            6.371            6.187            6.310   \n",
       "\n",
       "   BXD97_Liver_HFD  BXD98_Liver_HFD  BXD99_Liver_HFD  BXD100_Liver_HFD  \\\n",
       "0            5.125            5.160            5.020             5.170   \n",
       "1            7.424            7.447            7.567             7.732   \n",
       "2            6.886            6.876            7.027             7.093   \n",
       "3            8.914            8.838            9.056             8.924   \n",
       "4            6.448            6.531            6.167             6.401   \n",
       "\n",
       "   BXD101_Liver_HFD  BXD103_Liver_HFD  \n",
       "0             4.775             4.982  \n",
       "1             7.365             7.369  \n",
       "2             6.748             6.771  \n",
       "3             8.945             8.865  \n",
       "4             6.470             6.565  \n",
       "\n",
       "[5 rows x 92 columns]"
      ]
     },
     "execution_count": 5,
     "metadata": {},
     "output_type": "execute_result"
    }
   ],
   "source": [
    "data.head()"
   ]
  },
  {
   "cell_type": "markdown",
   "metadata": {},
   "source": [
    "### Subtask 1.2: Extract gene-wise average expression values\n",
    "\n",
    "The expression of most genes were measured by multiple probes. We would like to reduce the complexity of the data, and have only one, averaged expression row per gene. You can use the `groupby` function to achieve this, but make sure to use the `Gene.1` column instead of `Gene`. They are identical for the majority of rows, but `Gene.1` will be better for us later.\n",
    "\n",
    "The expression values are stored in the columns that contain the string `Liver`, so slice your DataFrame afterwards to keep only those columns."
   ]
  },
  {
   "cell_type": "code",
   "execution_count": 9,
   "metadata": {},
   "outputs": [
    {
     "data": {
      "text/html": [
       "<div>\n",
       "<style scoped>\n",
       "    .dataframe tbody tr th:only-of-type {\n",
       "        vertical-align: middle;\n",
       "    }\n",
       "\n",
       "    .dataframe tbody tr th {\n",
       "        vertical-align: top;\n",
       "    }\n",
       "\n",
       "    .dataframe thead th {\n",
       "        text-align: right;\n",
       "    }\n",
       "</style>\n",
       "<table border=\"1\" class=\"dataframe\">\n",
       "  <thead>\n",
       "    <tr style=\"text-align: right;\">\n",
       "      <th></th>\n",
       "      <th>Original_Order</th>\n",
       "      <th>MATCH_ORDER</th>\n",
       "      <th>Probeset</th>\n",
       "      <th>Unnamed: 6</th>\n",
       "      <th>Range CD</th>\n",
       "      <th>Range HFD</th>\n",
       "      <th>Range_All</th>\n",
       "      <th>C57BL/6J_Liver_CD</th>\n",
       "      <th>DBA/2J_Liver_CD</th>\n",
       "      <th>BXD43_Liver_CD</th>\n",
       "      <th>...</th>\n",
       "      <th>BXD89_Liver_HFD</th>\n",
       "      <th>BXD90_Liver_HFD</th>\n",
       "      <th>BXD95_Liver_HFD</th>\n",
       "      <th>BXD96_Liver_HFD</th>\n",
       "      <th>BXD97_Liver_HFD</th>\n",
       "      <th>BXD98_Liver_HFD</th>\n",
       "      <th>BXD99_Liver_HFD</th>\n",
       "      <th>BXD100_Liver_HFD</th>\n",
       "      <th>BXD101_Liver_HFD</th>\n",
       "      <th>BXD103_Liver_HFD</th>\n",
       "    </tr>\n",
       "    <tr>\n",
       "      <th>Gene.1</th>\n",
       "      <th></th>\n",
       "      <th></th>\n",
       "      <th></th>\n",
       "      <th></th>\n",
       "      <th></th>\n",
       "      <th></th>\n",
       "      <th></th>\n",
       "      <th></th>\n",
       "      <th></th>\n",
       "      <th></th>\n",
       "      <th></th>\n",
       "      <th></th>\n",
       "      <th></th>\n",
       "      <th></th>\n",
       "      <th></th>\n",
       "      <th></th>\n",
       "      <th></th>\n",
       "      <th></th>\n",
       "      <th></th>\n",
       "      <th></th>\n",
       "      <th></th>\n",
       "    </tr>\n",
       "  </thead>\n",
       "  <tbody>\n",
       "    <tr>\n",
       "      <th>544988</th>\n",
       "      <td>14422.333333</td>\n",
       "      <td>NaN</td>\n",
       "      <td>10417445.0</td>\n",
       "      <td>NaN</td>\n",
       "      <td>1.495780</td>\n",
       "      <td>1.366581</td>\n",
       "      <td>1.517264</td>\n",
       "      <td>6.1830</td>\n",
       "      <td>6.353333</td>\n",
       "      <td>6.262333</td>\n",
       "      <td>...</td>\n",
       "      <td>6.364333</td>\n",
       "      <td>6.339333</td>\n",
       "      <td>6.397667</td>\n",
       "      <td>6.3280</td>\n",
       "      <td>6.280333</td>\n",
       "      <td>6.385333</td>\n",
       "      <td>6.460667</td>\n",
       "      <td>6.331667</td>\n",
       "      <td>6.216667</td>\n",
       "      <td>6.278333</td>\n",
       "    </tr>\n",
       "    <tr>\n",
       "      <th>100043387</th>\n",
       "      <td>22067.000000</td>\n",
       "      <td>NaN</td>\n",
       "      <td>10490273.0</td>\n",
       "      <td>NaN</td>\n",
       "      <td>2.145033</td>\n",
       "      <td>2.118437</td>\n",
       "      <td>2.388326</td>\n",
       "      <td>10.3840</td>\n",
       "      <td>9.848000</td>\n",
       "      <td>10.108000</td>\n",
       "      <td>...</td>\n",
       "      <td>10.088000</td>\n",
       "      <td>10.553000</td>\n",
       "      <td>9.556000</td>\n",
       "      <td>10.6320</td>\n",
       "      <td>10.427000</td>\n",
       "      <td>10.217000</td>\n",
       "      <td>10.140000</td>\n",
       "      <td>10.639000</td>\n",
       "      <td>10.223000</td>\n",
       "      <td>9.956000</td>\n",
       "    </tr>\n",
       "    <tr>\n",
       "      <th>0610007C21Rik</th>\n",
       "      <td>25381.000000</td>\n",
       "      <td>12730.0</td>\n",
       "      <td>10520638.0</td>\n",
       "      <td>NaN</td>\n",
       "      <td>1.368884</td>\n",
       "      <td>1.404445</td>\n",
       "      <td>1.427015</td>\n",
       "      <td>12.3890</td>\n",
       "      <td>12.559000</td>\n",
       "      <td>12.647000</td>\n",
       "      <td>...</td>\n",
       "      <td>12.608000</td>\n",
       "      <td>12.593000</td>\n",
       "      <td>12.792000</td>\n",
       "      <td>12.5730</td>\n",
       "      <td>12.690000</td>\n",
       "      <td>12.700000</td>\n",
       "      <td>12.628000</td>\n",
       "      <td>12.550000</td>\n",
       "      <td>12.660000</td>\n",
       "      <td>12.696000</td>\n",
       "    </tr>\n",
       "    <tr>\n",
       "      <th>0610007L01Rik</th>\n",
       "      <td>26309.500000</td>\n",
       "      <td>13092.0</td>\n",
       "      <td>10530142.5</td>\n",
       "      <td>NaN</td>\n",
       "      <td>1.391366</td>\n",
       "      <td>1.395395</td>\n",
       "      <td>1.444313</td>\n",
       "      <td>10.2875</td>\n",
       "      <td>10.390000</td>\n",
       "      <td>10.411000</td>\n",
       "      <td>...</td>\n",
       "      <td>10.280000</td>\n",
       "      <td>10.309000</td>\n",
       "      <td>10.466500</td>\n",
       "      <td>10.1370</td>\n",
       "      <td>10.122000</td>\n",
       "      <td>10.179500</td>\n",
       "      <td>10.370000</td>\n",
       "      <td>10.275000</td>\n",
       "      <td>10.048000</td>\n",
       "      <td>10.154500</td>\n",
       "    </tr>\n",
       "    <tr>\n",
       "      <th>0610007P08Rik</th>\n",
       "      <td>12983.500000</td>\n",
       "      <td>4414.0</td>\n",
       "      <td>10405794.5</td>\n",
       "      <td>NaN</td>\n",
       "      <td>1.890313</td>\n",
       "      <td>1.797371</td>\n",
       "      <td>1.918039</td>\n",
       "      <td>8.1160</td>\n",
       "      <td>8.422000</td>\n",
       "      <td>8.235000</td>\n",
       "      <td>...</td>\n",
       "      <td>8.265500</td>\n",
       "      <td>8.275500</td>\n",
       "      <td>7.796000</td>\n",
       "      <td>8.2495</td>\n",
       "      <td>8.297000</td>\n",
       "      <td>8.058000</td>\n",
       "      <td>7.978000</td>\n",
       "      <td>8.148500</td>\n",
       "      <td>8.191000</td>\n",
       "      <td>8.272000</td>\n",
       "    </tr>\n",
       "  </tbody>\n",
       "</table>\n",
       "<p>5 rows × 89 columns</p>\n",
       "</div>"
      ],
      "text/plain": [
       "               Original_Order  MATCH_ORDER    Probeset  Unnamed: 6  Range CD  \\\n",
       "Gene.1                                                                         \n",
       "544988           14422.333333          NaN  10417445.0         NaN  1.495780   \n",
       "100043387        22067.000000          NaN  10490273.0         NaN  2.145033   \n",
       "0610007C21Rik    25381.000000      12730.0  10520638.0         NaN  1.368884   \n",
       "0610007L01Rik    26309.500000      13092.0  10530142.5         NaN  1.391366   \n",
       "0610007P08Rik    12983.500000       4414.0  10405794.5         NaN  1.890313   \n",
       "\n",
       "               Range HFD  Range_All  C57BL/6J_Liver_CD  DBA/2J_Liver_CD  \\\n",
       "Gene.1                                                                    \n",
       "544988          1.366581   1.517264             6.1830         6.353333   \n",
       "100043387       2.118437   2.388326            10.3840         9.848000   \n",
       "0610007C21Rik   1.404445   1.427015            12.3890        12.559000   \n",
       "0610007L01Rik   1.395395   1.444313            10.2875        10.390000   \n",
       "0610007P08Rik   1.797371   1.918039             8.1160         8.422000   \n",
       "\n",
       "               BXD43_Liver_CD        ...         BXD89_Liver_HFD  \\\n",
       "Gene.1                               ...                           \n",
       "544988               6.262333        ...                6.364333   \n",
       "100043387           10.108000        ...               10.088000   \n",
       "0610007C21Rik       12.647000        ...               12.608000   \n",
       "0610007L01Rik       10.411000        ...               10.280000   \n",
       "0610007P08Rik        8.235000        ...                8.265500   \n",
       "\n",
       "               BXD90_Liver_HFD  BXD95_Liver_HFD  BXD96_Liver_HFD  \\\n",
       "Gene.1                                                             \n",
       "544988                6.339333         6.397667           6.3280   \n",
       "100043387            10.553000         9.556000          10.6320   \n",
       "0610007C21Rik        12.593000        12.792000          12.5730   \n",
       "0610007L01Rik        10.309000        10.466500          10.1370   \n",
       "0610007P08Rik         8.275500         7.796000           8.2495   \n",
       "\n",
       "               BXD97_Liver_HFD  BXD98_Liver_HFD  BXD99_Liver_HFD  \\\n",
       "Gene.1                                                             \n",
       "544988                6.280333         6.385333         6.460667   \n",
       "100043387            10.427000        10.217000        10.140000   \n",
       "0610007C21Rik        12.690000        12.700000        12.628000   \n",
       "0610007L01Rik        10.122000        10.179500        10.370000   \n",
       "0610007P08Rik         8.297000         8.058000         7.978000   \n",
       "\n",
       "               BXD100_Liver_HFD  BXD101_Liver_HFD  BXD103_Liver_HFD  \n",
       "Gene.1                                                               \n",
       "544988                 6.331667          6.216667          6.278333  \n",
       "100043387             10.639000         10.223000          9.956000  \n",
       "0610007C21Rik         12.550000         12.660000         12.696000  \n",
       "0610007L01Rik         10.275000         10.048000         10.154500  \n",
       "0610007P08Rik          8.148500          8.191000          8.272000  \n",
       "\n",
       "[5 rows x 89 columns]"
      ]
     },
     "execution_count": 9,
     "metadata": {},
     "output_type": "execute_result"
    }
   ],
   "source": [
    "data_gen = data.groupby('Gene.1').mean()\n",
    "data_gen.head()"
   ]
  },
  {
   "cell_type": "code",
   "execution_count": 35,
   "metadata": {},
   "outputs": [],
   "source": [
    "def substring(str_list, substr):\n",
    "    #finds substring in list of strings returns position list\n",
    "    out_list = []\n",
    "    for i, en in enumerate(str_list):\n",
    "        if substr in en:\n",
    "            out_list.append(en)\n",
    "    return out_list\n",
    "\n",
    "liver_cols = substring(data_gen.columns.tolist(), 'Liver')\n",
    "#liver_cols = data_gen.columns.tolist[arg_liver]\n",
    "data_gen_liv = data_gen[liver_cols]"
   ]
  },
  {
   "cell_type": "code",
   "execution_count": 38,
   "metadata": {},
   "outputs": [
    {
     "data": {
      "text/html": [
       "<div>\n",
       "<style scoped>\n",
       "    .dataframe tbody tr th:only-of-type {\n",
       "        vertical-align: middle;\n",
       "    }\n",
       "\n",
       "    .dataframe tbody tr th {\n",
       "        vertical-align: top;\n",
       "    }\n",
       "\n",
       "    .dataframe thead th {\n",
       "        text-align: right;\n",
       "    }\n",
       "</style>\n",
       "<table border=\"1\" class=\"dataframe\">\n",
       "  <thead>\n",
       "    <tr style=\"text-align: right;\">\n",
       "      <th></th>\n",
       "      <th>C57BL/6J_Liver_CD</th>\n",
       "      <th>DBA/2J_Liver_CD</th>\n",
       "      <th>BXD43_Liver_CD</th>\n",
       "      <th>BXD44_Liver_CD</th>\n",
       "      <th>BXD45_Liver_CD</th>\n",
       "      <th>BXD48_Liver_CD</th>\n",
       "      <th>BXD49_Liver_CD</th>\n",
       "      <th>BXD51_Liver_CD</th>\n",
       "      <th>BXD55_Liver_CD</th>\n",
       "      <th>BXD56_Liver_CD</th>\n",
       "      <th>...</th>\n",
       "      <th>BXD89_Liver_HFD</th>\n",
       "      <th>BXD90_Liver_HFD</th>\n",
       "      <th>BXD95_Liver_HFD</th>\n",
       "      <th>BXD96_Liver_HFD</th>\n",
       "      <th>BXD97_Liver_HFD</th>\n",
       "      <th>BXD98_Liver_HFD</th>\n",
       "      <th>BXD99_Liver_HFD</th>\n",
       "      <th>BXD100_Liver_HFD</th>\n",
       "      <th>BXD101_Liver_HFD</th>\n",
       "      <th>BXD103_Liver_HFD</th>\n",
       "    </tr>\n",
       "    <tr>\n",
       "      <th>Gene.1</th>\n",
       "      <th></th>\n",
       "      <th></th>\n",
       "      <th></th>\n",
       "      <th></th>\n",
       "      <th></th>\n",
       "      <th></th>\n",
       "      <th></th>\n",
       "      <th></th>\n",
       "      <th></th>\n",
       "      <th></th>\n",
       "      <th></th>\n",
       "      <th></th>\n",
       "      <th></th>\n",
       "      <th></th>\n",
       "      <th></th>\n",
       "      <th></th>\n",
       "      <th></th>\n",
       "      <th></th>\n",
       "      <th></th>\n",
       "      <th></th>\n",
       "      <th></th>\n",
       "    </tr>\n",
       "  </thead>\n",
       "  <tbody>\n",
       "    <tr>\n",
       "      <th>544988</th>\n",
       "      <td>6.1830</td>\n",
       "      <td>6.353333</td>\n",
       "      <td>6.262333</td>\n",
       "      <td>6.263667</td>\n",
       "      <td>6.270</td>\n",
       "      <td>6.201333</td>\n",
       "      <td>6.2370</td>\n",
       "      <td>6.274667</td>\n",
       "      <td>6.319</td>\n",
       "      <td>6.2710</td>\n",
       "      <td>...</td>\n",
       "      <td>6.364333</td>\n",
       "      <td>6.339333</td>\n",
       "      <td>6.397667</td>\n",
       "      <td>6.3280</td>\n",
       "      <td>6.280333</td>\n",
       "      <td>6.385333</td>\n",
       "      <td>6.460667</td>\n",
       "      <td>6.331667</td>\n",
       "      <td>6.216667</td>\n",
       "      <td>6.278333</td>\n",
       "    </tr>\n",
       "    <tr>\n",
       "      <th>100043387</th>\n",
       "      <td>10.3840</td>\n",
       "      <td>9.848000</td>\n",
       "      <td>10.108000</td>\n",
       "      <td>9.860000</td>\n",
       "      <td>9.392</td>\n",
       "      <td>9.926000</td>\n",
       "      <td>10.1050</td>\n",
       "      <td>10.040000</td>\n",
       "      <td>10.128</td>\n",
       "      <td>9.4100</td>\n",
       "      <td>...</td>\n",
       "      <td>10.088000</td>\n",
       "      <td>10.553000</td>\n",
       "      <td>9.556000</td>\n",
       "      <td>10.6320</td>\n",
       "      <td>10.427000</td>\n",
       "      <td>10.217000</td>\n",
       "      <td>10.140000</td>\n",
       "      <td>10.639000</td>\n",
       "      <td>10.223000</td>\n",
       "      <td>9.956000</td>\n",
       "    </tr>\n",
       "    <tr>\n",
       "      <th>0610007C21Rik</th>\n",
       "      <td>12.3890</td>\n",
       "      <td>12.559000</td>\n",
       "      <td>12.647000</td>\n",
       "      <td>12.639000</td>\n",
       "      <td>12.515</td>\n",
       "      <td>12.659000</td>\n",
       "      <td>12.5710</td>\n",
       "      <td>12.512000</td>\n",
       "      <td>12.651</td>\n",
       "      <td>12.5290</td>\n",
       "      <td>...</td>\n",
       "      <td>12.608000</td>\n",
       "      <td>12.593000</td>\n",
       "      <td>12.792000</td>\n",
       "      <td>12.5730</td>\n",
       "      <td>12.690000</td>\n",
       "      <td>12.700000</td>\n",
       "      <td>12.628000</td>\n",
       "      <td>12.550000</td>\n",
       "      <td>12.660000</td>\n",
       "      <td>12.696000</td>\n",
       "    </tr>\n",
       "    <tr>\n",
       "      <th>0610007L01Rik</th>\n",
       "      <td>10.2875</td>\n",
       "      <td>10.390000</td>\n",
       "      <td>10.411000</td>\n",
       "      <td>10.419500</td>\n",
       "      <td>10.306</td>\n",
       "      <td>10.432000</td>\n",
       "      <td>10.2005</td>\n",
       "      <td>10.432000</td>\n",
       "      <td>10.320</td>\n",
       "      <td>10.2945</td>\n",
       "      <td>...</td>\n",
       "      <td>10.280000</td>\n",
       "      <td>10.309000</td>\n",
       "      <td>10.466500</td>\n",
       "      <td>10.1370</td>\n",
       "      <td>10.122000</td>\n",
       "      <td>10.179500</td>\n",
       "      <td>10.370000</td>\n",
       "      <td>10.275000</td>\n",
       "      <td>10.048000</td>\n",
       "      <td>10.154500</td>\n",
       "    </tr>\n",
       "    <tr>\n",
       "      <th>0610007P08Rik</th>\n",
       "      <td>8.1160</td>\n",
       "      <td>8.422000</td>\n",
       "      <td>8.235000</td>\n",
       "      <td>8.135000</td>\n",
       "      <td>8.198</td>\n",
       "      <td>8.092500</td>\n",
       "      <td>8.1460</td>\n",
       "      <td>7.876500</td>\n",
       "      <td>8.400</td>\n",
       "      <td>8.0930</td>\n",
       "      <td>...</td>\n",
       "      <td>8.265500</td>\n",
       "      <td>8.275500</td>\n",
       "      <td>7.796000</td>\n",
       "      <td>8.2495</td>\n",
       "      <td>8.297000</td>\n",
       "      <td>8.058000</td>\n",
       "      <td>7.978000</td>\n",
       "      <td>8.148500</td>\n",
       "      <td>8.191000</td>\n",
       "      <td>8.272000</td>\n",
       "    </tr>\n",
       "  </tbody>\n",
       "</table>\n",
       "<p>5 rows × 81 columns</p>\n",
       "</div>"
      ],
      "text/plain": [
       "               C57BL/6J_Liver_CD  DBA/2J_Liver_CD  BXD43_Liver_CD  \\\n",
       "Gene.1                                                              \n",
       "544988                    6.1830         6.353333        6.262333   \n",
       "100043387                10.3840         9.848000       10.108000   \n",
       "0610007C21Rik            12.3890        12.559000       12.647000   \n",
       "0610007L01Rik            10.2875        10.390000       10.411000   \n",
       "0610007P08Rik             8.1160         8.422000        8.235000   \n",
       "\n",
       "               BXD44_Liver_CD  BXD45_Liver_CD  BXD48_Liver_CD  BXD49_Liver_CD  \\\n",
       "Gene.1                                                                          \n",
       "544988               6.263667           6.270        6.201333          6.2370   \n",
       "100043387            9.860000           9.392        9.926000         10.1050   \n",
       "0610007C21Rik       12.639000          12.515       12.659000         12.5710   \n",
       "0610007L01Rik       10.419500          10.306       10.432000         10.2005   \n",
       "0610007P08Rik        8.135000           8.198        8.092500          8.1460   \n",
       "\n",
       "               BXD51_Liver_CD  BXD55_Liver_CD  BXD56_Liver_CD  \\\n",
       "Gene.1                                                          \n",
       "544988               6.274667           6.319          6.2710   \n",
       "100043387           10.040000          10.128          9.4100   \n",
       "0610007C21Rik       12.512000          12.651         12.5290   \n",
       "0610007L01Rik       10.432000          10.320         10.2945   \n",
       "0610007P08Rik        7.876500           8.400          8.0930   \n",
       "\n",
       "                     ...         BXD89_Liver_HFD  BXD90_Liver_HFD  \\\n",
       "Gene.1               ...                                            \n",
       "544988               ...                6.364333         6.339333   \n",
       "100043387            ...               10.088000        10.553000   \n",
       "0610007C21Rik        ...               12.608000        12.593000   \n",
       "0610007L01Rik        ...               10.280000        10.309000   \n",
       "0610007P08Rik        ...                8.265500         8.275500   \n",
       "\n",
       "               BXD95_Liver_HFD  BXD96_Liver_HFD  BXD97_Liver_HFD  \\\n",
       "Gene.1                                                             \n",
       "544988                6.397667           6.3280         6.280333   \n",
       "100043387             9.556000          10.6320        10.427000   \n",
       "0610007C21Rik        12.792000          12.5730        12.690000   \n",
       "0610007L01Rik        10.466500          10.1370        10.122000   \n",
       "0610007P08Rik         7.796000           8.2495         8.297000   \n",
       "\n",
       "               BXD98_Liver_HFD  BXD99_Liver_HFD  BXD100_Liver_HFD  \\\n",
       "Gene.1                                                              \n",
       "544988                6.385333         6.460667          6.331667   \n",
       "100043387            10.217000        10.140000         10.639000   \n",
       "0610007C21Rik        12.700000        12.628000         12.550000   \n",
       "0610007L01Rik        10.179500        10.370000         10.275000   \n",
       "0610007P08Rik         8.058000         7.978000          8.148500   \n",
       "\n",
       "               BXD101_Liver_HFD  BXD103_Liver_HFD  \n",
       "Gene.1                                             \n",
       "544988                 6.216667          6.278333  \n",
       "100043387             10.223000          9.956000  \n",
       "0610007C21Rik         12.660000         12.696000  \n",
       "0610007L01Rik         10.048000         10.154500  \n",
       "0610007P08Rik          8.191000          8.272000  \n",
       "\n",
       "[5 rows x 81 columns]"
      ]
     },
     "execution_count": 38,
     "metadata": {},
     "output_type": "execute_result"
    }
   ],
   "source": [
    "dat = data_gen_liv\n",
    "dat.head()"
   ]
  },
  {
   "cell_type": "markdown",
   "metadata": {},
   "source": [
    "### Subtask 1.3: Quantile normalization: carry out a quantile normalization of the data (or not)"
   ]
  },
  {
   "cell_type": "markdown",
   "metadata": {},
   "source": [
    "#### 1.3.1: Implement a ratio intensity plot a.k.a. MA plot using matplotlib\n",
    "The ratio intensity plot compares two microarrays with each other to detect systematic calibration differences between them, and therefore it's an important tool for microarray normalization. When we have so many microarrays (80+ in this case) it is practical to take one as the reference, and compare + normalize the rest against it. For simplicity, we will just compare a single pair now -- the rest would be the same.\n",
    "\n",
    "Pick any two microarray measurements (columns) of the expression DataFrame.\n",
    "\n",
    "The ratio intensity plot shows the log2 expression ratio of each pair of corresponding probes as a function of their expression (light intensity) on a scatter plot. Since the data you're working with has been log2-transformed (common practice in microarray experiments) the \"ratio\" is simply the difference of the values, since log(x1/x2) = log(x1)-log(x2).\n",
    "\n",
    "Depending on your computer, the scatter plot may take a while to draw, so you can cheat a bit and plot only every 10th data point. You can use `.iloc[::10]` to achieve this.\n",
    "\n",
    "You can also try adding a reference line at zero, and a rolling average of the points using `statsmodels.api.lowess`."
   ]
  },
  {
   "cell_type": "code",
   "execution_count": 83,
   "metadata": {},
   "outputs": [],
   "source": [
    "gen1 = dat.iloc[:,0].iloc[::10]\n",
    "gen2 = dat.iloc[:,1].iloc[::10]\n",
    "Y = np.subtract(gen1, gen2)\n",
    "X = np.divide(np.add(gen1, gen2),2)\n"
   ]
  },
  {
   "cell_type": "code",
   "execution_count": 85,
   "metadata": {},
   "outputs": [
    {
     "data": {
      "text/plain": [
       "[<matplotlib.lines.Line2D at 0x1cad606d978>]"
      ]
     },
     "execution_count": 85,
     "metadata": {},
     "output_type": "execute_result"
    },
    {
     "data": {
      "image/png": "[encoded data removed]",
      "text/plain": [
       "<matplotlib.figure.Figure at 0x1cad354fb38>"
      ]
     },
     "metadata": {},
     "output_type": "display_data"
    }
   ],
   "source": [
    "plt.scatter(X,Y, s = 1, alpha = 0.2)\n",
    "#plt.yscale('log')\n",
    "#plt.ylim([0.8, 1.2])\n",
    "low = sm.nonparametric.lowess(Y, X )#return_sorted = False\n",
    "\n",
    "#plt.plot( X, low, linewidth = 1)\n",
    "plt.plot(low[:,0], low[:,1])"
   ]
  },
  {
   "cell_type": "code",
   "execution_count": 72,
   "metadata": {},
   "outputs": [
    {
     "data": {
      "text/plain": [
       "array([7.6705148 , 8.55201017, 8.54397435, ..., 8.67000318, 8.61627095,\n",
       "       7.98381709])"
      ]
     },
     "execution_count": 72,
     "metadata": {},
     "output_type": "execute_result"
    }
   ],
   "source": [
    "low"
   ]
  },
  {
   "cell_type": "markdown",
   "metadata": {},
   "source": [
    "#### 1.3.2: Implement a Relative Log Expression (RLE) box plot\n",
    "The Relative Log Expression (RLE) values are the log2-ratios of gene expression values and the median expression of this gene across all arrays of the experiment. (We are still using log-transformed values, so ratio means difference in practice).\n",
    "\n",
    "It is assumed that most genes are not systematically over- or underexpressed across the arrays, so it is expected that these log2-ratios are centered around 0 for every array, with a similar standard deviations.\n",
    "\n",
    "By creating a box-plot out of the RLE values for every array, we can spot arrays that were not normalized correctly."
   ]
  },
  {
   "cell_type": "code",
   "execution_count": null,
   "metadata": {
    "collapsed": true
   },
   "outputs": [],
   "source": []
  },
  {
   "cell_type": "code",
   "execution_count": null,
   "metadata": {},
   "outputs": [],
   "source": []
  },
  {
   "cell_type": "markdown",
   "metadata": {},
   "source": [
    "#### Subsubtask 1.3.3: If you consider it necessary, perform a quantile normalization for the microarrays"
   ]
  },
  {
   "cell_type": "code",
   "execution_count": 15,
   "metadata": {
    "collapsed": true
   },
   "outputs": [],
   "source": []
  },
  {
   "cell_type": "markdown",
   "metadata": {},
   "source": [
    "## Task 2: Which statistical test to choose?"
   ]
  },
  {
   "cell_type": "markdown",
   "metadata": {},
   "source": [
    "We want to infer differentially expressed genes between the CD and the HFD condition. Therefore we treat the expression values of all the strains for a given gene under one diet as independent observations of the same random variable. We then compare these distributions between the two diets with a statistical test to see whether their means differ significantly or not.\n",
    "\n",
    "Since most statistical tests assume certain properties of the compared distributions, we first have to find out which of these assumptions are true for our data, so we can choose a suitable test for differential expression. We will limit ourselves to the following mean-equality tests:\n",
    "\n",
    "* Student's t-test (assumes distributions are normally distributed, have equal variance, has highest statistical power)\n",
    "* Welch's t-test (assumes normal distribution, does not care about variance) \n",
    "* Wilcoxon's rank-sum test, a.k.a. Whitney-Mann U-test (no assumptions about the tested distributions, weakest statistical power)\n",
    "\n",
    "Useful resources:\n",
    "http://docs.scipy.org/doc/scipy-0.17.1/reference/stats.html \n",
    "http://statsmodels.sourceforge.net/stable/graphics.html"
   ]
  },
  {
   "cell_type": "markdown",
   "metadata": {},
   "source": [
    "### Subtask 2.0: Find a way to separate the CD and HFD samples in the expression DataFrame\n",
    "Since you will have to compare expression values of CD samples with those from HFD samples, you have to be able to access them separately. There are several ways to do this:\n",
    "* you can create a binary \"slicer\" Series for CD and HFD columns (used like `expr_df.loc[... , is_cd]`)\n",
    "* or create two lists with column names for CD and HFD samples (used like `expr_df.loc[... , cols_cd]`)\n",
    "* or just create two separate DataFrames for CD and HFD samples"
   ]
  },
  {
   "cell_type": "markdown",
   "metadata": {},
   "source": [
    "### Subtask 2.1: Do the CD and HFD samples have equal variance?"
   ]
  },
  {
   "cell_type": "markdown",
   "metadata": {},
   "source": [
    "#### 2.1.1: Choose a random gene\n",
    "It's a good idea to store the gene name (or the numeric index of the row) you used, so we can reproduce it later."
   ]
  },
  {
   "cell_type": "code",
   "execution_count": null,
   "metadata": {},
   "outputs": [],
   "source": []
  },
  {
   "cell_type": "markdown",
   "metadata": {},
   "source": [
    "#### 2.1.2: Make a quantile-quantile (Q-Q) plot comparing the two sample groups for the chosen gene and interpret what you see\n",
    "Pandas can calculate quantiles for you, or you can use `statsmodels.api.qqplot_2samples`"
   ]
  },
  {
   "cell_type": "code",
   "execution_count": null,
   "metadata": {},
   "outputs": [],
   "source": []
  },
  {
   "cell_type": "markdown",
   "metadata": {},
   "source": [
    "#### 2.1.3: Apply an appropriate statistical test in order to figure out whether the samples have equal variance\n",
    "The Levene-test is suitable, and it's implemented in `scipy.stats`. But you're free to use a different one if you like."
   ]
  },
  {
   "cell_type": "code",
   "execution_count": null,
   "metadata": {},
   "outputs": [],
   "source": []
  },
  {
   "cell_type": "markdown",
   "metadata": {},
   "source": [
    "#### 2.1.4: To asses the global situation, run the equal variance test for all genes, plot the histogram of the p-values, and draw a conclusion"
   ]
  },
  {
   "cell_type": "code",
   "execution_count": null,
   "metadata": {
    "collapsed": true
   },
   "outputs": [],
   "source": []
  },
  {
   "cell_type": "markdown",
   "metadata": {},
   "source": [
    "### Subtask 2.2 Are the CD and HFD samples normally distributed?"
   ]
  },
  {
   "cell_type": "markdown",
   "metadata": {},
   "source": [
    "#### 2.2.1: Using the same gene randomly chosen above, make Box plots for the corresponding CD and HFD samples. Could they come from normal distributions on first glance?"
   ]
  },
  {
   "cell_type": "code",
   "execution_count": null,
   "metadata": {},
   "outputs": [],
   "source": []
  },
  {
   "cell_type": "markdown",
   "metadata": {},
   "source": [
    "####  2.2.2: Create a Q-Q plot for each sample, but this time instead of comparing them with each other, compare both with a theoretical normal distribution."
   ]
  },
  {
   "cell_type": "code",
   "execution_count": null,
   "metadata": {},
   "outputs": [],
   "source": []
  },
  {
   "cell_type": "markdown",
   "metadata": {},
   "source": [
    "####  2.2.3: Run an appropriate statistical test in order to figure out whether the samples are normally distributed\n",
    "`scipy.stats` can help you with this one too."
   ]
  },
  {
   "cell_type": "code",
   "execution_count": null,
   "metadata": {},
   "outputs": [],
   "source": []
  },
  {
   "cell_type": "markdown",
   "metadata": {},
   "source": [
    "####  2.2.4: To asses the global situation, plot a histogram of your normality test's p-values for all the genes"
   ]
  },
  {
   "cell_type": "code",
   "execution_count": null,
   "metadata": {
    "collapsed": true
   },
   "outputs": [],
   "source": []
  },
  {
   "cell_type": "markdown",
   "metadata": {},
   "source": [
    "## Task 3: Differential expression testing\n",
    "\n",
    "Having checked the assumptions that our data fulfills, it's time to settle on a suitable statistical test to compare gene expression values between the CD and HFD conditions.\n",
    "\n",
    "We would like you to end up with a DataFrame, which is indexed by gene identifiers, and has at least three columns:\n",
    "* log2 fold change between CD and HFD means (reminder: our expression data is already log2 transformed)\n",
    "* raw p-values of the mean-equality test that you chose\n",
    "* B-H corrected p-values of the test\n",
    "\n",
    "If you have enough time, you can add the raw and corrected p-values of other mean-equality tests as well, and even compare them with each other.\n",
    "\n",
    "You may want to create the above columns as individual `Series` objects, and concatenate them at the end, since initializing a large `DataFrame` in advance and filling it cell by cell is very inefficient."
   ]
  },
  {
   "cell_type": "code",
   "execution_count": null,
   "metadata": {},
   "outputs": [],
   "source": []
  },
  {
   "cell_type": "code",
   "execution_count": null,
   "metadata": {},
   "outputs": [],
   "source": []
  },
  {
   "cell_type": "code",
   "execution_count": null,
   "metadata": {},
   "outputs": [],
   "source": []
  },
  {
   "cell_type": "code",
   "execution_count": null,
   "metadata": {},
   "outputs": [],
   "source": []
  },
  {
   "cell_type": "code",
   "execution_count": null,
   "metadata": {},
   "outputs": [],
   "source": []
  },
  {
   "cell_type": "markdown",
   "metadata": {},
   "source": [
    "## Task 4: Volcano plots"
   ]
  },
  {
   "cell_type": "markdown",
   "metadata": {},
   "source": [
    "Volcano plots visualize two key aspects of a differential expression experiment at once on a single scatter plot: the significance of differential expression as a function of the log2 fold change between the two conditions.\n",
    "For a more detailed description:\n",
    "\n",
    "* arXiv:1103.3434 (https://arxiv.org/abs/1103.3434)\n",
    "* http://www.ncbi.nlm.nih.gov/pubmed/23602812 (doi:10.1016/j.compbiolchem.2013.02.003)"
   ]
  },
  {
   "cell_type": "markdown",
   "metadata": {},
   "source": [
    "### Subtask 4.1:  Implement a Volcano plot\n",
    "Do it from scratch using matplotlib. Try to include cut-off lines and highlight significant genes with a different color."
   ]
  },
  {
   "cell_type": "code",
   "execution_count": null,
   "metadata": {
    "collapsed": true
   },
   "outputs": [],
   "source": []
  },
  {
   "cell_type": "markdown",
   "metadata": {},
   "source": [
    "### Subtask 4.2: Interpret the Volcano plot\n",
    "Why doesn't fold change and significance correlate more directly? Can you explain the outliers?"
   ]
  },
  {
   "cell_type": "code",
   "execution_count": null,
   "metadata": {},
   "outputs": [],
   "source": []
  },
  {
   "cell_type": "markdown",
   "metadata": {},
   "source": [
    "### Subtask 4.3: Create a Volcano plot with the corrected p-values from Task 3"
   ]
  },
  {
   "cell_type": "code",
   "execution_count": null,
   "metadata": {},
   "outputs": [],
   "source": []
  },
  {
   "cell_type": "markdown",
   "metadata": {
    "collapsed": true
   },
   "source": [
    "## Finally, save your fold change / p-value DataFrame as CSV for later use."
   ]
  },
  {
   "cell_type": "code",
   "execution_count": null,
   "metadata": {},
   "outputs": [],
   "source": []
  }
 ],
 "metadata": {
  "anaconda-cloud": {},
  "kernelspec": {
   "display_name": "Python 3",
   "language": "python",
   "name": "python3"
  },
  "language_info": {
   "codemirror_mode": {
    "name": "ipython",
    "version": 3
   },
   "file_extension": ".py",
   "mimetype": "text/x-python",
   "name": "python",
   "nbconvert_exporter": "python",
   "pygments_lexer": "ipython3",
   "version": "3.6.4"
  },
  "nav_menu": {},
  "toc": {
   "navigate_menu": true,
   "number_sections": true,
   "sideBar": false,
   "threshold": 6,
   "toc_cell": true,
   "toc_section_display": "block",
   "toc_window_display": false
  }
 },
 "nbformat": 4,
 "nbformat_minor": 1
}
