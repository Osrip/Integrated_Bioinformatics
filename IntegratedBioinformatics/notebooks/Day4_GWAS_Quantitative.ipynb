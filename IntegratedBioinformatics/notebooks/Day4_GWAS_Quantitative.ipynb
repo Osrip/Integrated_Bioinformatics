{
 "cells": [
  {
   "cell_type": "markdown",
   "metadata": {},
   "source": [
    "# Association tests between variant(s) and continuous phenotype\n",
    "The phenotype data provided in the multi-omics publication is not categorical. We thus have to adapt our approach to use continuous data. In the lecture you learned that instead of $\\chi^2$ test, linear or logistic regression models and correlation tests can be used. We will stick to linear correlation now."
   ]
  },
  {
   "cell_type": "markdown",
   "metadata": {},
   "source": [
    "## Imports"
   ]
  },
  {
   "cell_type": "code",
   "execution_count": null,
   "metadata": {
    "collapsed": true
   },
   "outputs": [],
   "source": []
  },
  {
   "cell_type": "markdown",
   "metadata": {},
   "source": [
    "## Task: Load the genotype csv and phenotype spreadsheets\n",
    "This is routine by now: for the genotype dataframe, use the B=0 / H=1 / D=2 / U=nan representation, and separate it from the locus information columns. As for the phenotype spreadsheets, always use the `split_cd_hfd(...)`-transformed version from now on.\n",
    "Don't immediately drop rows or columns with NaN's this time. We will try to avoid wasting precious data, and work around them instead when necessary."
   ]
  },
  {
   "cell_type": "code",
   "execution_count": null,
   "metadata": {
    "collapsed": true
   },
   "outputs": [],
   "source": []
  },
  {
   "cell_type": "code",
   "execution_count": null,
   "metadata": {},
   "outputs": [],
   "source": []
  },
  {
   "cell_type": "markdown",
   "metadata": {},
   "source": [
    "## Task: Implement Pearson's r-based test for correlation between genotype and phenotype\n",
    "\n",
    "Choose a phenotype whose genetic associations you want to study, one example could be `Glucose_[mmol/L]` from the `Biochemistry` sheet. \n",
    "\n",
    "For every SNP, perform a Pearson's correlation test between the SNP and the chosen phenotype. Notice that your phenotype dataframe (due to the `split_cd_hfd` transformation) has two entries for each strain now, while your genotype dataframe only has one. Since the `stats.pearsonr` function takes two vectors/Series with directly comparable elements, you will have to \"stretch\" your genotype data to allow a direct comparison. Pandas' `reindex` method can help you with this: you can force the genotype DF index to match the phenotype DF index.\n",
    "\n",
    "The `stats.pearsonr` function doesn't just expect two vectors of the same length, it also can't handle NaN values. Make sure you remove elements from both vectors where either of them is an NaN. Do this on a case-by-case basis using binary masks: a Series' `.isna()` method gives you a boolean vector where `True` elements stand for missing values. You can combine and invert boolean vectors with logical operators, and use the resulting mask to slice both the genotype and phenotype Series at the necessary positions.\n",
    "\n",
    "Once you can do a Pearson's test between between a single phenotype and a single locus, you can extend your code to run it for all loci. Combine all p-values into a single Series (indexed by Locus) for the next tasks."
   ]
  },
  {
   "cell_type": "code",
   "execution_count": null,
   "metadata": {
    "collapsed": true
   },
   "outputs": [],
   "source": []
  },
  {
   "cell_type": "code",
   "execution_count": null,
   "metadata": {},
   "outputs": [],
   "source": []
  },
  {
   "cell_type": "code",
   "execution_count": null,
   "metadata": {},
   "outputs": [],
   "source": []
  },
  {
   "cell_type": "markdown",
   "metadata": {},
   "source": [
    "## Task: Plot corresponding Manhattan Plot\n",
    "\n",
    "You can re-use your code from the previous notebook."
   ]
  },
  {
   "cell_type": "code",
   "execution_count": null,
   "metadata": {
    "collapsed": true
   },
   "outputs": [],
   "source": []
  },
  {
   "cell_type": "markdown",
   "metadata": {},
   "source": [
    "## Task: Plot p-value histograms before and after multiple hypothesis testing correction\n",
    "\n",
    "Use the same Benjamini-Hochberg correction you had used previously. Did you find any significant SNPs at the 0.05 level after correction?\n",
    "\n"
   ]
  },
  {
   "cell_type": "code",
   "execution_count": null,
   "metadata": {
    "collapsed": true
   },
   "outputs": [],
   "source": []
  },
  {
   "cell_type": "markdown",
   "metadata": {},
   "source": [
    "### Task: take the locus with the lowest p-value, and visualize the phenotype values for the B (0) mice and the D (2) mice separately\n",
    "Are there any differences between them? Did you expect to see any?"
   ]
  },
  {
   "cell_type": "code",
   "execution_count": null,
   "metadata": {},
   "outputs": [],
   "source": []
  },
  {
   "cell_type": "markdown",
   "metadata": {
    "collapsed": true
   },
   "source": [
    "# Run association tests for all phenotypes versus a single locus\n",
    "\n",
    "Moving onto phenotype association studies, we will now test multiple phenotypes for genetic associations. To determine how much each trait is associated with a single genetic factor, we have to repeat our analyses for phenotypes of interest, and of course correcting for multiple hypothesis testing afterwards. We then have to figure out which traits (if any) are the most associated with that locus."
   ]
  },
  {
   "cell_type": "markdown",
   "metadata": {},
   "source": [
    "### Subtask: Take all phenotype sheets, transform and concatenate them\n",
    "Transformation means `split_cd_hfd` in this case. What is the size of the joint phenotype sheet?"
   ]
  },
  {
   "cell_type": "code",
   "execution_count": null,
   "metadata": {},
   "outputs": [],
   "source": []
  },
  {
   "cell_type": "markdown",
   "metadata": {},
   "source": [
    "## Task: Pick a locus, and run a Pearson's test between this locus and all phenotypes\n",
    "This is the mirror image of the previous task, where you fixed a phenotype, and tested it against all loci. Now do it the other way around.\n",
    "\n",
    "As usual, do multiple testing correction on your p-values. Could you argue that we are overcorrecting them? Were we overcorrecting them previously?"
   ]
  },
  {
   "cell_type": "code",
   "execution_count": null,
   "metadata": {
    "collapsed": true
   },
   "outputs": [],
   "source": []
  },
  {
   "cell_type": "markdown",
   "metadata": {},
   "source": [
    "## Task: Extract relevant information about effect size, significance, locus,... of the phenotype with the lowest p-value"
   ]
  },
  {
   "cell_type": "code",
   "execution_count": null,
   "metadata": {
    "collapsed": true
   },
   "outputs": [],
   "source": []
  },
  {
   "cell_type": "markdown",
   "metadata": {},
   "source": [
    "## Task: Interpret results\n",
    "Is the p-value low enough to be considered significant? If yes, can you find genes in the region, that may be causal?"
   ]
  },
  {
   "cell_type": "code",
   "execution_count": null,
   "metadata": {
    "collapsed": true
   },
   "outputs": [],
   "source": []
  },
  {
   "cell_type": "markdown",
   "metadata": {},
   "source": [
    "## What confounding factors may have been ignored in the current approach? How could they be incorporated?\n",
    "Remember: the BXD strains were bred in multiple laboratories over several decades.\n",
    "http://www.genenetwork.org/mouseCross.html"
   ]
  },
  {
   "cell_type": "code",
   "execution_count": null,
   "metadata": {
    "collapsed": true
   },
   "outputs": [],
   "source": []
  }
 ],
 "metadata": {
  "anaconda-cloud": {},
  "hide_input": false,
  "kernelspec": {
   "display_name": "Python 3",
   "language": "python",
   "name": "python3"
  },
  "language_info": {
   "codemirror_mode": {
    "name": "ipython",
    "version": 3
   },
   "file_extension": ".py",
   "mimetype": "text/x-python",
   "name": "python",
   "nbconvert_exporter": "python",
   "pygments_lexer": "ipython3",
   "version": "3.6.5"
  },
  "nav_menu": {},
  "toc": {
   "navigate_menu": true,
   "number_sections": true,
   "sideBar": false,
   "threshold": 6,
   "toc_cell": false,
   "toc_number_sections": true,
   "toc_section_display": "none",
   "toc_window_display": true
  },
  "toc_position": {
   "height": "1208px",
   "left": "1265px",
   "right": "20px",
   "top": "88px",
   "width": "600px"
  }
 },
 "nbformat": 4,
 "nbformat_minor": 1
}
